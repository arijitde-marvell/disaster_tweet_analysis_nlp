{
 "cells": [
  {
   "cell_type": "markdown",
   "metadata": {
    "colab_type": "text",
    "id": "Zz8TI9bzWVbf"
   },
   "source": [
    "Comparison of Disaster tweets : \n",
    "The aim of this notebook is to classify tweets potentially related to catastrophes into real or misleading tweets. Here comparison between several ML techniques will be also done."
   ]
  },
  {
   "cell_type": "markdown",
   "metadata": {
    "colab_type": "text",
    "id": "JRhrKTi9WSaA"
   },
   "source": []
  },
  {
   "cell_type": "code",
   "execution_count": 12,
   "metadata": {
    "colab": {},
    "colab_type": "code",
    "id": "6xFvKMzRWZJ0"
   },
   "outputs": [],
   "source": [
    "import pandas as pd\n",
    "import seaborn as sb\n",
    "import matplotlib.pyplot as plt\n",
    "\n",
    "import string\n",
    "import nltk\n",
    "import re # regular expressions"
   ]
  },
  {
   "cell_type": "code",
   "execution_count": 13,
   "metadata": {
    "colab": {},
    "colab_type": "code",
    "id": "9O4A9l2U15Fl"
   },
   "outputs": [],
   "source": [
    "#!pip install pyspellchecker"
   ]
  },
  {
   "cell_type": "code",
   "execution_count": 100,
   "metadata": {
    "colab": {},
    "colab_type": "code",
    "id": "34bIRVvs190P"
   },
   "outputs": [],
   "source": [
    "#from spellchecker import SpellChecker\n",
    "from sklearn.feature_extraction.text import TfidfVectorizer, CountVectorizer\n",
    "from sklearn.model_selection import train_test_split\n",
    "from sklearn.ensemble import RandomForestClassifier\n",
    "from sklearn.model_selection import cross_val_score\n",
    "from sklearn.metrics import precision_score, recall_score, f1_score, accuracy_score\n",
    "from sklearn.linear_model import RidgeClassifier\n",
    "from sklearn.svm import SVC"
   ]
  },
  {
   "cell_type": "code",
   "execution_count": null,
   "metadata": {
    "colab": {},
    "colab_type": "code",
    "id": "QsjTOnwH1_sA"
   },
   "outputs": [],
   "source": []
  },
  {
   "cell_type": "code",
   "execution_count": null,
   "metadata": {
    "colab": {},
    "colab_type": "code",
    "id": "bHh4cXAA1_py"
   },
   "outputs": [],
   "source": []
  },
  {
   "cell_type": "code",
   "execution_count": 15,
   "metadata": {
    "colab": {
     "base_uri": "https://localhost:8080/",
     "height": 72
    },
    "colab_type": "code",
    "executionInfo": {
     "elapsed": 2334,
     "status": "ok",
     "timestamp": 1584798465575,
     "user": {
      "displayName": "send2arijit",
      "photoUrl": "https://lh3.googleusercontent.com/a-/AOh14Gj1G8wTuZqr4dDOS6SGDSN4JMr6eNNt_KO7UYSqUw=s64",
      "userId": "12938584335714059605"
     },
     "user_tz": -330
    },
    "id": "SuNVeiMeosi7",
    "outputId": "b9d040ca-b428-4614-f5c6-feb214130eb2"
   },
   "outputs": [
    {
     "name": "stderr",
     "output_type": "stream",
     "text": [
      "[nltk_data] Downloading package stopwords to\n",
      "[nltk_data]     C:\\Users\\arijit\\AppData\\Roaming\\nltk_data...\n",
      "[nltk_data]   Package stopwords is already up-to-date!\n"
     ]
    },
    {
     "data": {
      "text/plain": [
       "True"
      ]
     },
     "execution_count": 15,
     "metadata": {},
     "output_type": "execute_result"
    }
   ],
   "source": [
    "nltk.download('stopwords')"
   ]
  },
  {
   "cell_type": "code",
   "execution_count": 16,
   "metadata": {
    "colab": {
     "base_uri": "https://localhost:8080/",
     "height": 72
    },
    "colab_type": "code",
    "executionInfo": {
     "elapsed": 4727,
     "status": "ok",
     "timestamp": 1584798467992,
     "user": {
      "displayName": "send2arijit",
      "photoUrl": "https://lh3.googleusercontent.com/a-/AOh14Gj1G8wTuZqr4dDOS6SGDSN4JMr6eNNt_KO7UYSqUw=s64",
      "userId": "12938584335714059605"
     },
     "user_tz": -330
    },
    "id": "HU1jLnopXbG_",
    "outputId": "3b4be966-310b-4740-9a88-3a5f18fc3777"
   },
   "outputs": [],
   "source": [
    "#!ls sample_data"
   ]
  },
  {
   "cell_type": "code",
   "execution_count": 17,
   "metadata": {
    "colab": {},
    "colab_type": "code",
    "id": "3PrIXULAXbKQ"
   },
   "outputs": [],
   "source": [
    "#!cp test.csv train.csv sample_data"
   ]
  },
  {
   "cell_type": "code",
   "execution_count": 18,
   "metadata": {
    "colab": {
     "base_uri": "https://localhost:8080/",
     "height": 198
    },
    "colab_type": "code",
    "executionInfo": {
     "elapsed": 7176,
     "status": "ok",
     "timestamp": 1584798470486,
     "user": {
      "displayName": "send2arijit",
      "photoUrl": "https://lh3.googleusercontent.com/a-/AOh14Gj1G8wTuZqr4dDOS6SGDSN4JMr6eNNt_KO7UYSqUw=s64",
      "userId": "12938584335714059605"
     },
     "user_tz": -330
    },
    "id": "rSrWaJ3vW6rY",
    "outputId": "96e1981f-743e-4cca-df7d-d13a890dc282"
   },
   "outputs": [
    {
     "data": {
      "text/html": [
       "<div>\n",
       "<style scoped>\n",
       "    .dataframe tbody tr th:only-of-type {\n",
       "        vertical-align: middle;\n",
       "    }\n",
       "\n",
       "    .dataframe tbody tr th {\n",
       "        vertical-align: top;\n",
       "    }\n",
       "\n",
       "    .dataframe thead th {\n",
       "        text-align: right;\n",
       "    }\n",
       "</style>\n",
       "<table border=\"1\" class=\"dataframe\">\n",
       "  <thead>\n",
       "    <tr style=\"text-align: right;\">\n",
       "      <th></th>\n",
       "      <th>id</th>\n",
       "      <th>keyword</th>\n",
       "      <th>location</th>\n",
       "      <th>text</th>\n",
       "      <th>target</th>\n",
       "    </tr>\n",
       "  </thead>\n",
       "  <tbody>\n",
       "    <tr>\n",
       "      <td>0</td>\n",
       "      <td>1</td>\n",
       "      <td>NaN</td>\n",
       "      <td>NaN</td>\n",
       "      <td>Our Deeds are the Reason of this #earthquake M...</td>\n",
       "      <td>1</td>\n",
       "    </tr>\n",
       "    <tr>\n",
       "      <td>1</td>\n",
       "      <td>4</td>\n",
       "      <td>NaN</td>\n",
       "      <td>NaN</td>\n",
       "      <td>Forest fire near La Ronge Sask. Canada</td>\n",
       "      <td>1</td>\n",
       "    </tr>\n",
       "    <tr>\n",
       "      <td>2</td>\n",
       "      <td>5</td>\n",
       "      <td>NaN</td>\n",
       "      <td>NaN</td>\n",
       "      <td>All residents asked to 'shelter in place' are ...</td>\n",
       "      <td>1</td>\n",
       "    </tr>\n",
       "    <tr>\n",
       "      <td>3</td>\n",
       "      <td>6</td>\n",
       "      <td>NaN</td>\n",
       "      <td>NaN</td>\n",
       "      <td>13,000 people receive #wildfires evacuation or...</td>\n",
       "      <td>1</td>\n",
       "    </tr>\n",
       "    <tr>\n",
       "      <td>4</td>\n",
       "      <td>7</td>\n",
       "      <td>NaN</td>\n",
       "      <td>NaN</td>\n",
       "      <td>Just got sent this photo from Ruby #Alaska as ...</td>\n",
       "      <td>1</td>\n",
       "    </tr>\n",
       "  </tbody>\n",
       "</table>\n",
       "</div>"
      ],
      "text/plain": [
       "   id keyword location                                               text  \\\n",
       "0   1     NaN      NaN  Our Deeds are the Reason of this #earthquake M...   \n",
       "1   4     NaN      NaN             Forest fire near La Ronge Sask. Canada   \n",
       "2   5     NaN      NaN  All residents asked to 'shelter in place' are ...   \n",
       "3   6     NaN      NaN  13,000 people receive #wildfires evacuation or...   \n",
       "4   7     NaN      NaN  Just got sent this photo from Ruby #Alaska as ...   \n",
       "\n",
       "   target  \n",
       "0       1  \n",
       "1       1  \n",
       "2       1  \n",
       "3       1  \n",
       "4       1  "
      ]
     },
     "execution_count": 18,
     "metadata": {},
     "output_type": "execute_result"
    }
   ],
   "source": [
    "# training data\n",
    "data = pd.read_csv('train.csv')\n",
    "data.head()"
   ]
  },
  {
   "cell_type": "code",
   "execution_count": 50,
   "metadata": {
    "colab": {
     "base_uri": "https://localhost:8080/",
     "height": 35
    },
    "colab_type": "code",
    "executionInfo": {
     "elapsed": 7141,
     "status": "ok",
     "timestamp": 1584798470487,
     "user": {
      "displayName": "send2arijit",
      "photoUrl": "https://lh3.googleusercontent.com/a-/AOh14Gj1G8wTuZqr4dDOS6SGDSN4JMr6eNNt_KO7UYSqUw=s64",
      "userId": "12938584335714059605"
     },
     "user_tz": -330
    },
    "id": "vSkUoKxwUEoM",
    "outputId": "4c3bd1df-d827-43d6-f946-3fdb0dd2ed9d"
   },
   "outputs": [],
   "source": [
    "train_len = len(data)"
   ]
  },
  {
   "cell_type": "code",
   "execution_count": 20,
   "metadata": {
    "colab": {
     "base_uri": "https://localhost:8080/",
     "height": 198
    },
    "colab_type": "code",
    "executionInfo": {
     "elapsed": 7109,
     "status": "ok",
     "timestamp": 1584798470488,
     "user": {
      "displayName": "send2arijit",
      "photoUrl": "https://lh3.googleusercontent.com/a-/AOh14Gj1G8wTuZqr4dDOS6SGDSN4JMr6eNNt_KO7UYSqUw=s64",
      "userId": "12938584335714059605"
     },
     "user_tz": -330
    },
    "id": "AZzJH4pZXX0R",
    "outputId": "6a7506e3-5e25-4a55-9495-790712555f9a"
   },
   "outputs": [
    {
     "data": {
      "text/html": [
       "<div>\n",
       "<style scoped>\n",
       "    .dataframe tbody tr th:only-of-type {\n",
       "        vertical-align: middle;\n",
       "    }\n",
       "\n",
       "    .dataframe tbody tr th {\n",
       "        vertical-align: top;\n",
       "    }\n",
       "\n",
       "    .dataframe thead th {\n",
       "        text-align: right;\n",
       "    }\n",
       "</style>\n",
       "<table border=\"1\" class=\"dataframe\">\n",
       "  <thead>\n",
       "    <tr style=\"text-align: right;\">\n",
       "      <th></th>\n",
       "      <th>id</th>\n",
       "      <th>keyword</th>\n",
       "      <th>location</th>\n",
       "      <th>text</th>\n",
       "    </tr>\n",
       "  </thead>\n",
       "  <tbody>\n",
       "    <tr>\n",
       "      <td>0</td>\n",
       "      <td>0</td>\n",
       "      <td>NaN</td>\n",
       "      <td>NaN</td>\n",
       "      <td>Just happened a terrible car crash</td>\n",
       "    </tr>\n",
       "    <tr>\n",
       "      <td>1</td>\n",
       "      <td>2</td>\n",
       "      <td>NaN</td>\n",
       "      <td>NaN</td>\n",
       "      <td>Heard about #earthquake is different cities, s...</td>\n",
       "    </tr>\n",
       "    <tr>\n",
       "      <td>2</td>\n",
       "      <td>3</td>\n",
       "      <td>NaN</td>\n",
       "      <td>NaN</td>\n",
       "      <td>there is a forest fire at spot pond, geese are...</td>\n",
       "    </tr>\n",
       "    <tr>\n",
       "      <td>3</td>\n",
       "      <td>9</td>\n",
       "      <td>NaN</td>\n",
       "      <td>NaN</td>\n",
       "      <td>Apocalypse lighting. #Spokane #wildfires</td>\n",
       "    </tr>\n",
       "    <tr>\n",
       "      <td>4</td>\n",
       "      <td>11</td>\n",
       "      <td>NaN</td>\n",
       "      <td>NaN</td>\n",
       "      <td>Typhoon Soudelor kills 28 in China and Taiwan</td>\n",
       "    </tr>\n",
       "  </tbody>\n",
       "</table>\n",
       "</div>"
      ],
      "text/plain": [
       "   id keyword location                                               text\n",
       "0   0     NaN      NaN                 Just happened a terrible car crash\n",
       "1   2     NaN      NaN  Heard about #earthquake is different cities, s...\n",
       "2   3     NaN      NaN  there is a forest fire at spot pond, geese are...\n",
       "3   9     NaN      NaN           Apocalypse lighting. #Spokane #wildfires\n",
       "4  11     NaN      NaN      Typhoon Soudelor kills 28 in China and Taiwan"
      ]
     },
     "execution_count": 20,
     "metadata": {},
     "output_type": "execute_result"
    }
   ],
   "source": [
    "# test data\n",
    "tdata = pd.read_csv('test.csv')\n",
    "tdata.head()"
   ]
  },
  {
   "cell_type": "code",
   "execution_count": 21,
   "metadata": {
    "colab": {
     "base_uri": "https://localhost:8080/",
     "height": 35
    },
    "colab_type": "code",
    "executionInfo": {
     "elapsed": 7064,
     "status": "ok",
     "timestamp": 1584798470489,
     "user": {
      "displayName": "send2arijit",
      "photoUrl": "https://lh3.googleusercontent.com/a-/AOh14Gj1G8wTuZqr4dDOS6SGDSN4JMr6eNNt_KO7UYSqUw=s64",
      "userId": "12938584335714059605"
     },
     "user_tz": -330
    },
    "id": "ZIUvajj2YfwM",
    "outputId": "28f816fb-bd08-45f2-d448-c9f0495608a9"
   },
   "outputs": [
    {
     "name": "stdout",
     "output_type": "stream",
     "text": [
      "training data shape: (7613, 5), test data shape: (3263, 4)\n"
     ]
    }
   ],
   "source": [
    "print('training data shape: {}, test data shape: {}'.format(data.shape, tdata.shape))"
   ]
  },
  {
   "cell_type": "code",
   "execution_count": 22,
   "metadata": {
    "colab": {
     "base_uri": "https://localhost:8080/",
     "height": 198
    },
    "colab_type": "code",
    "executionInfo": {
     "elapsed": 7036,
     "status": "ok",
     "timestamp": 1584798470490,
     "user": {
      "displayName": "send2arijit",
      "photoUrl": "https://lh3.googleusercontent.com/a-/AOh14Gj1G8wTuZqr4dDOS6SGDSN4JMr6eNNt_KO7UYSqUw=s64",
      "userId": "12938584335714059605"
     },
     "user_tz": -330
    },
    "id": "lqPJL0jKYmoK",
    "outputId": "e162866c-0e60-4e58-e6ef-cd5db67bfa66"
   },
   "outputs": [
    {
     "data": {
      "text/html": [
       "<div>\n",
       "<style scoped>\n",
       "    .dataframe tbody tr th:only-of-type {\n",
       "        vertical-align: middle;\n",
       "    }\n",
       "\n",
       "    .dataframe tbody tr th {\n",
       "        vertical-align: top;\n",
       "    }\n",
       "\n",
       "    .dataframe thead th {\n",
       "        text-align: right;\n",
       "    }\n",
       "</style>\n",
       "<table border=\"1\" class=\"dataframe\">\n",
       "  <thead>\n",
       "    <tr style=\"text-align: right;\">\n",
       "      <th></th>\n",
       "      <th>id</th>\n",
       "      <th>keyword</th>\n",
       "      <th>location</th>\n",
       "      <th>text</th>\n",
       "      <th>target</th>\n",
       "    </tr>\n",
       "  </thead>\n",
       "  <tbody>\n",
       "    <tr>\n",
       "      <td>0</td>\n",
       "      <td>1</td>\n",
       "      <td>NaN</td>\n",
       "      <td>NaN</td>\n",
       "      <td>Our Deeds are the Reason of this #earthquake M...</td>\n",
       "      <td>1.0</td>\n",
       "    </tr>\n",
       "    <tr>\n",
       "      <td>1</td>\n",
       "      <td>4</td>\n",
       "      <td>NaN</td>\n",
       "      <td>NaN</td>\n",
       "      <td>Forest fire near La Ronge Sask. Canada</td>\n",
       "      <td>1.0</td>\n",
       "    </tr>\n",
       "    <tr>\n",
       "      <td>2</td>\n",
       "      <td>5</td>\n",
       "      <td>NaN</td>\n",
       "      <td>NaN</td>\n",
       "      <td>All residents asked to 'shelter in place' are ...</td>\n",
       "      <td>1.0</td>\n",
       "    </tr>\n",
       "    <tr>\n",
       "      <td>3</td>\n",
       "      <td>6</td>\n",
       "      <td>NaN</td>\n",
       "      <td>NaN</td>\n",
       "      <td>13,000 people receive #wildfires evacuation or...</td>\n",
       "      <td>1.0</td>\n",
       "    </tr>\n",
       "    <tr>\n",
       "      <td>4</td>\n",
       "      <td>7</td>\n",
       "      <td>NaN</td>\n",
       "      <td>NaN</td>\n",
       "      <td>Just got sent this photo from Ruby #Alaska as ...</td>\n",
       "      <td>1.0</td>\n",
       "    </tr>\n",
       "  </tbody>\n",
       "</table>\n",
       "</div>"
      ],
      "text/plain": [
       "   id keyword location                                               text  \\\n",
       "0   1     NaN      NaN  Our Deeds are the Reason of this #earthquake M...   \n",
       "1   4     NaN      NaN             Forest fire near La Ronge Sask. Canada   \n",
       "2   5     NaN      NaN  All residents asked to 'shelter in place' are ...   \n",
       "3   6     NaN      NaN  13,000 people receive #wildfires evacuation or...   \n",
       "4   7     NaN      NaN  Just got sent this photo from Ruby #Alaska as ...   \n",
       "\n",
       "   target  \n",
       "0     1.0  \n",
       "1     1.0  \n",
       "2     1.0  \n",
       "3     1.0  \n",
       "4     1.0  "
      ]
     },
     "execution_count": 22,
     "metadata": {},
     "output_type": "execute_result"
    }
   ],
   "source": [
    "#combine training & test data, but dont shuffale\n",
    "total_data = pd.concat([data, tdata], sort=False)\n",
    "total_data.head()"
   ]
  },
  {
   "cell_type": "code",
   "execution_count": 23,
   "metadata": {
    "colab": {
     "base_uri": "https://localhost:8080/",
     "height": 126
    },
    "colab_type": "code",
    "executionInfo": {
     "elapsed": 7006,
     "status": "ok",
     "timestamp": 1584798470491,
     "user": {
      "displayName": "send2arijit",
      "photoUrl": "https://lh3.googleusercontent.com/a-/AOh14Gj1G8wTuZqr4dDOS6SGDSN4JMr6eNNt_KO7UYSqUw=s64",
      "userId": "12938584335714059605"
     },
     "user_tz": -330
    },
    "id": "doEkWkseZXBC",
    "outputId": "b4baa671-a54c-4400-8b47-b8400e80e328"
   },
   "outputs": [
    {
     "data": {
      "text/plain": [
       "id             0\n",
       "keyword       87\n",
       "location    3638\n",
       "text           0\n",
       "target      3263\n",
       "dtype: int64"
      ]
     },
     "execution_count": 23,
     "metadata": {},
     "output_type": "execute_result"
    }
   ],
   "source": [
    "# check the missing data \n",
    "total_data.isnull().sum()"
   ]
  },
  {
   "cell_type": "code",
   "execution_count": 24,
   "metadata": {
    "colab": {},
    "colab_type": "code",
    "id": "7x1obigWZbhw"
   },
   "outputs": [],
   "source": [
    "# so there are lot of missing values"
   ]
  },
  {
   "cell_type": "code",
   "execution_count": 25,
   "metadata": {
    "colab": {
     "base_uri": "https://localhost:8080/",
     "height": 35
    },
    "colab_type": "code",
    "executionInfo": {
     "elapsed": 6963,
     "status": "ok",
     "timestamp": 1584798470493,
     "user": {
      "displayName": "send2arijit",
      "photoUrl": "https://lh3.googleusercontent.com/a-/AOh14Gj1G8wTuZqr4dDOS6SGDSN4JMr6eNNt_KO7UYSqUw=s64",
      "userId": "12938584335714059605"
     },
     "user_tz": -330
    },
    "id": "F71p51I-Zbsy",
    "outputId": "d109fece-b1cf-47bd-dd79-5d086e365bd5"
   },
   "outputs": [
    {
     "name": "stdout",
     "output_type": "stream",
     "text": [
      "unique values in keyword 221, location 4521\n"
     ]
    }
   ],
   "source": [
    "print('unique values in keyword {}, location {}'.format(total_data.keyword.nunique(), total_data.location.nunique()))"
   ]
  },
  {
   "cell_type": "code",
   "execution_count": 113,
   "metadata": {
    "colab": {},
    "colab_type": "code",
    "id": "zzQJ2pJNZbq9"
   },
   "outputs": [],
   "source": [
    "# check the distribution of target if there they are uneven \n",
    "def show_target_barplot():\n",
    "  \"\"\" plot target distribution \"\"\"\n",
    "  target_types = data.target.value_counts()\n",
    "  plot = sb.barplot(y=target_types, x=data.target.value_counts().index)\n",
    "  plot.set_title('target distribution')"
   ]
  },
  {
   "cell_type": "code",
   "execution_count": 114,
   "metadata": {
    "colab": {
     "base_uri": "https://localhost:8080/",
     "height": 281
    },
    "colab_type": "code",
    "executionInfo": {
     "elapsed": 6921,
     "status": "ok",
     "timestamp": 1584798470495,
     "user": {
      "displayName": "send2arijit",
      "photoUrl": "https://lh3.googleusercontent.com/a-/AOh14Gj1G8wTuZqr4dDOS6SGDSN4JMr6eNNt_KO7UYSqUw=s64",
      "userId": "12938584335714059605"
     },
     "user_tz": -330
    },
    "id": "iCIS_QONZbow",
    "outputId": "55c51fce-7147-4ae9-a9f1-e9579f8e5868"
   },
   "outputs": [
    {
     "data": {
      "image/png": "[encoded data removed]",
      "text/plain": [
       "<Figure size 432x288 with 1 Axes>"
      ]
     },
     "metadata": {
      "needs_background": "light"
     },
     "output_type": "display_data"
    }
   ],
   "source": [
    "show_target_barplot()"
   ]
  },
  {
   "cell_type": "markdown",
   "metadata": {
    "colab_type": "text",
    "id": "Cr8J8XSvvGRg"
   },
   "source": [
    "'target' type counts looks to be not too deviated."
   ]
  },
  {
   "cell_type": "code",
   "execution_count": 28,
   "metadata": {
    "colab": {},
    "colab_type": "code",
    "id": "GQC4e_w2Zbmy"
   },
   "outputs": [],
   "source": [
    "# Analyze the keyword & location feature and fill the missing values\n",
    "def plot_keyword_location():\n",
    "  fig, ax =plt.subplots(1,2)\n",
    "  fig.subplots_adjust(hspace=0.5 , wspace=0.5)\n",
    "\n",
    "  target_types = data.keyword.value_counts()[:10]\n",
    "  # check for first few common names\n",
    "  plot = sb.barplot(x=target_types, y=data.keyword.value_counts()[:10].index, ax=ax[0])\n",
    "  plot.set_title('keyword types')\n",
    "\n",
    "  location_types = data.location.value_counts()[:10]\n",
    "  plot2 = sb.barplot(x=location_types, y=data.location.value_counts()[:10].index, ax=ax[1])\n",
    "  plot2.set_title('location types')\n",
    "\n",
    "  fig.show()"
   ]
  },
  {
   "cell_type": "code",
   "execution_count": 29,
   "metadata": {
    "colab": {
     "base_uri": "https://localhost:8080/",
     "height": 295
    },
    "colab_type": "code",
    "executionInfo": {
     "elapsed": 7333,
     "status": "ok",
     "timestamp": 1584798470955,
     "user": {
      "displayName": "send2arijit",
      "photoUrl": "https://lh3.googleusercontent.com/a-/AOh14Gj1G8wTuZqr4dDOS6SGDSN4JMr6eNNt_KO7UYSqUw=s64",
      "userId": "12938584335714059605"
     },
     "user_tz": -330
    },
    "id": "qa6a_xzOZbko",
    "outputId": "76f22576-5e2e-4267-d8d9-c09fe9262ff2"
   },
   "outputs": [
    {
     "name": "stderr",
     "output_type": "stream",
     "text": [
      "C:\\Users\\arijit\\AppData\\Local\\Continuum\\anaconda3\\lib\\site-packages\\ipykernel_launcher.py:15: UserWarning: Matplotlib is currently using module://ipykernel.pylab.backend_inline, which is a non-GUI backend, so cannot show the figure.\n",
      "  from ipykernel import kernelapp as app\n"
     ]
    },
    {
     "data": {
      "image/png": "[encoded data removed]",
      "text/plain": [
       "<Figure size 432x288 with 2 Axes>"
      ]
     },
     "metadata": {
      "needs_background": "light"
     },
     "output_type": "display_data"
    }
   ],
   "source": [
    "plot_keyword_location()"
   ]
  },
  {
   "cell_type": "code",
   "execution_count": 30,
   "metadata": {
    "colab": {},
    "colab_type": "code",
    "id": "he8dijwxAI6z"
   },
   "outputs": [],
   "source": [
    "def fill_misiing_val():\n",
    "  \"\"\" fill missing values with None \"\"\"\n",
    "  total_data.location.fillna('None', inplace=True)\n",
    "  total_data.keyword.fillna('None', inplace=True)\n",
    "\n",
    "  total_data.target.fillna(0, inplace=True)\n",
    "\n",
    "fill_misiing_val()"
   ]
  },
  {
   "cell_type": "code",
   "execution_count": 31,
   "metadata": {
    "colab": {
     "base_uri": "https://localhost:8080/",
     "height": 126
    },
    "colab_type": "code",
    "executionInfo": {
     "elapsed": 7284,
     "status": "ok",
     "timestamp": 1584798470957,
     "user": {
      "displayName": "send2arijit",
      "photoUrl": "https://lh3.googleusercontent.com/a-/AOh14Gj1G8wTuZqr4dDOS6SGDSN4JMr6eNNt_KO7UYSqUw=s64",
      "userId": "12938584335714059605"
     },
     "user_tz": -330
    },
    "id": "N_F3A6xYCsMK",
    "outputId": "84adc525-ca1e-49d1-b990-718393b46121"
   },
   "outputs": [
    {
     "data": {
      "text/plain": [
       "id          0\n",
       "keyword     0\n",
       "location    0\n",
       "text        0\n",
       "target      0\n",
       "dtype: int64"
      ]
     },
     "execution_count": 31,
     "metadata": {},
     "output_type": "execute_result"
    }
   ],
   "source": [
    "total_data.isnull().sum()"
   ]
  },
  {
   "cell_type": "code",
   "execution_count": 32,
   "metadata": {
    "colab": {
     "base_uri": "https://localhost:8080/",
     "height": 198
    },
    "colab_type": "code",
    "executionInfo": {
     "elapsed": 7255,
     "status": "ok",
     "timestamp": 1584798470958,
     "user": {
      "displayName": "send2arijit",
      "photoUrl": "https://lh3.googleusercontent.com/a-/AOh14Gj1G8wTuZqr4dDOS6SGDSN4JMr6eNNt_KO7UYSqUw=s64",
      "userId": "12938584335714059605"
     },
     "user_tz": -330
    },
    "id": "6ETYvCazC4ze",
    "outputId": "427a372a-a4a5-4cc2-c0cb-ca6fced555ca"
   },
   "outputs": [
    {
     "data": {
      "text/html": [
       "<div>\n",
       "<style scoped>\n",
       "    .dataframe tbody tr th:only-of-type {\n",
       "        vertical-align: middle;\n",
       "    }\n",
       "\n",
       "    .dataframe tbody tr th {\n",
       "        vertical-align: top;\n",
       "    }\n",
       "\n",
       "    .dataframe thead th {\n",
       "        text-align: right;\n",
       "    }\n",
       "</style>\n",
       "<table border=\"1\" class=\"dataframe\">\n",
       "  <thead>\n",
       "    <tr style=\"text-align: right;\">\n",
       "      <th></th>\n",
       "      <th>id</th>\n",
       "      <th>keyword</th>\n",
       "      <th>location</th>\n",
       "      <th>text</th>\n",
       "      <th>target</th>\n",
       "    </tr>\n",
       "  </thead>\n",
       "  <tbody>\n",
       "    <tr>\n",
       "      <td>0</td>\n",
       "      <td>1</td>\n",
       "      <td>None</td>\n",
       "      <td>None</td>\n",
       "      <td>Our Deeds are the Reason of this #earthquake M...</td>\n",
       "      <td>1.0</td>\n",
       "    </tr>\n",
       "    <tr>\n",
       "      <td>1</td>\n",
       "      <td>4</td>\n",
       "      <td>None</td>\n",
       "      <td>None</td>\n",
       "      <td>Forest fire near La Ronge Sask. Canada</td>\n",
       "      <td>1.0</td>\n",
       "    </tr>\n",
       "    <tr>\n",
       "      <td>2</td>\n",
       "      <td>5</td>\n",
       "      <td>None</td>\n",
       "      <td>None</td>\n",
       "      <td>All residents asked to 'shelter in place' are ...</td>\n",
       "      <td>1.0</td>\n",
       "    </tr>\n",
       "    <tr>\n",
       "      <td>3</td>\n",
       "      <td>6</td>\n",
       "      <td>None</td>\n",
       "      <td>None</td>\n",
       "      <td>13,000 people receive #wildfires evacuation or...</td>\n",
       "      <td>1.0</td>\n",
       "    </tr>\n",
       "    <tr>\n",
       "      <td>4</td>\n",
       "      <td>7</td>\n",
       "      <td>None</td>\n",
       "      <td>None</td>\n",
       "      <td>Just got sent this photo from Ruby #Alaska as ...</td>\n",
       "      <td>1.0</td>\n",
       "    </tr>\n",
       "  </tbody>\n",
       "</table>\n",
       "</div>"
      ],
      "text/plain": [
       "   id keyword location                                               text  \\\n",
       "0   1    None     None  Our Deeds are the Reason of this #earthquake M...   \n",
       "1   4    None     None             Forest fire near La Ronge Sask. Canada   \n",
       "2   5    None     None  All residents asked to 'shelter in place' are ...   \n",
       "3   6    None     None  13,000 people receive #wildfires evacuation or...   \n",
       "4   7    None     None  Just got sent this photo from Ruby #Alaska as ...   \n",
       "\n",
       "   target  \n",
       "0     1.0  \n",
       "1     1.0  \n",
       "2     1.0  \n",
       "3     1.0  \n",
       "4     1.0  "
      ]
     },
     "execution_count": 32,
     "metadata": {},
     "output_type": "execute_result"
    }
   ],
   "source": [
    "total_data.head()"
   ]
  },
  {
   "cell_type": "code",
   "execution_count": null,
   "metadata": {
    "colab": {},
    "colab_type": "code",
    "id": "2bgoSgF2DKfp"
   },
   "outputs": [],
   "source": []
  },
  {
   "cell_type": "code",
   "execution_count": null,
   "metadata": {
    "colab": {},
    "colab_type": "code",
    "id": "C_a594r2GsVn"
   },
   "outputs": [],
   "source": []
  },
  {
   "cell_type": "markdown",
   "metadata": {
    "colab_type": "text",
    "id": "ifURyZe2HK9K"
   },
   "source": [
    "Data is now ready for cleaning\n",
    "\n",
    "This data is having all weblinks and spaces as well\n",
    "*   Need to clean the text *data*\n",
    "*   remove punctuations\n",
    "*   List item\n",
    "*   lower case \n",
    "*   remove \n",
    "\n",
    "\n",
    "\n",
    "\n",
    "\n"
   ]
  },
  {
   "cell_type": "code",
   "execution_count": 76,
   "metadata": {
    "colab": {},
    "colab_type": "code",
    "id": "2mMDsFURGsTq"
   },
   "outputs": [],
   "source": [
    "def remove_punctuations_and_nums(text):\n",
    "  \"\"\" remove '!\"#$%&\\'()*+,-./:;<=>?@[\\\\]^_`{|}~' and numbers \"\"\"\n",
    "  clean_data = ''.join([x for x in text if x not in string.punctuation])\n",
    "  clean_data = ''.join([x for x in clean_data if x not in string.digits])\n",
    "  return clean_data\n",
    "\n",
    "def remove_stopwords(text):\n",
    "  clean_data = ''.join([x for x in text if x not in nltk.corpus.stopwords.words('english')])\n",
    "  return clean_data\n",
    "\n",
    "def remove_weblinks(text):\n",
    "  clean_data = re.sub('www.|https://|http://|.com|t.co/','', text)\n",
    "  return clean_data\n",
    "\n",
    "def remove_nonascii(text):\n",
    "  clean_text = ''.join([x for x in text if ord(x) < 128])\n",
    "  return clean_text\n",
    "\n",
    "#spell = SpellChecker()\n",
    "def correct_spelling(text):\n",
    "  \"\"\" spelling correction \"\"\"\n",
    "  mispelled = spell.unknown(text.split())\n",
    "\n",
    "  correct_text = []\n",
    "  for word in text.split():\n",
    "    if word in mispelled:\n",
    "      correct_text.append(spell.correction(word))\n",
    "    else:\n",
    "      correct_text.append(word)\n",
    "\n",
    "  return correct_text\n",
    "\n",
    "def clean_text(data):\n",
    "  # convert to lower case\n",
    "  data['clean_text'] = data['text'].apply(lambda x: x.lower())\n",
    "  print('lower case')\n",
    "  # remove punc & digits\n",
    "  data['clean_text'] = data['clean_text'].apply(lambda x: remove_punctuations_and_nums(x))\n",
    "  # remove stopwords\n",
    "  data['clean_text'] = data['clean_text'].apply(lambda x: remove_stopwords(x))\n",
    "  # remove all web links\n",
    "  #data['clean_text'] = data['clean_text'].apply(lambda x: remove_weblinks(x)) # takes time\n",
    "  # remove non ascii charecters\n",
    "  #data['clean_text'] = data['clean_text'].apply(lambda x: remove_nonascii(x))\n",
    "  # removing any leading and trailing whitespaces including tabs\n",
    "  #data['clean_text'] = data['clean_text'].apply(lambda x: x.strip())\n",
    "\n",
    "  # correct spelling\n",
    "  # data['clean_text'] = data['clean_text'].apply(lambda x: correct_spelling(x)) #takes time to process\n",
    "  \n",
    "  "
   ]
  },
  {
   "cell_type": "code",
   "execution_count": 77,
   "metadata": {
    "colab": {},
    "colab_type": "code",
    "id": "FKbA6LmNGsRq"
   },
   "outputs": [
    {
     "name": "stdout",
     "output_type": "stream",
     "text": [
      "lower case\n"
     ]
    }
   ],
   "source": [
    "clean_text(total_data)"
   ]
  },
  {
   "cell_type": "code",
   "execution_count": 78,
   "metadata": {
    "colab": {
     "base_uri": "https://localhost:8080/",
     "height": 267
    },
    "colab_type": "code",
    "executionInfo": {
     "elapsed": 95593,
     "status": "ok",
     "timestamp": 1584798559362,
     "user": {
      "displayName": "send2arijit",
      "photoUrl": "https://lh3.googleusercontent.com/a-/AOh14Gj1G8wTuZqr4dDOS6SGDSN4JMr6eNNt_KO7UYSqUw=s64",
      "userId": "12938584335714059605"
     },
     "user_tz": -330
    },
    "id": "QQJlIw_5aV5H",
    "outputId": "05fe92da-a3cb-481a-c530-449b4ea082a3"
   },
   "outputs": [
    {
     "data": {
      "text/html": [
       "<div>\n",
       "<style scoped>\n",
       "    .dataframe tbody tr th:only-of-type {\n",
       "        vertical-align: middle;\n",
       "    }\n",
       "\n",
       "    .dataframe tbody tr th {\n",
       "        vertical-align: top;\n",
       "    }\n",
       "\n",
       "    .dataframe thead th {\n",
       "        text-align: right;\n",
       "    }\n",
       "</style>\n",
       "<table border=\"1\" class=\"dataframe\">\n",
       "  <thead>\n",
       "    <tr style=\"text-align: right;\">\n",
       "      <th></th>\n",
       "      <th>id</th>\n",
       "      <th>keyword</th>\n",
       "      <th>location</th>\n",
       "      <th>text</th>\n",
       "      <th>target</th>\n",
       "      <th>clean_text</th>\n",
       "    </tr>\n",
       "  </thead>\n",
       "  <tbody>\n",
       "    <tr>\n",
       "      <td>0</td>\n",
       "      <td>1</td>\n",
       "      <td>None</td>\n",
       "      <td>None</td>\n",
       "      <td>Our Deeds are the Reason of this #earthquake M...</td>\n",
       "      <td>1.0</td>\n",
       "      <td>ur ee re he ren f h erhquke  llh frgve u ll</td>\n",
       "    </tr>\n",
       "    <tr>\n",
       "      <td>1</td>\n",
       "      <td>4</td>\n",
       "      <td>None</td>\n",
       "      <td>None</td>\n",
       "      <td>Forest fire near La Ronge Sask. Canada</td>\n",
       "      <td>1.0</td>\n",
       "      <td>fre fre ner l rnge k cn</td>\n",
       "    </tr>\n",
       "    <tr>\n",
       "      <td>2</td>\n",
       "      <td>5</td>\n",
       "      <td>None</td>\n",
       "      <td>None</td>\n",
       "      <td>All residents asked to 'shelter in place' are ...</td>\n",
       "      <td>1.0</td>\n",
       "      <td>ll reen ke  heler n plce re beng nfe b ffcer n...</td>\n",
       "    </tr>\n",
       "    <tr>\n",
       "      <td>3</td>\n",
       "      <td>6</td>\n",
       "      <td>None</td>\n",
       "      <td>None</td>\n",
       "      <td>13,000 people receive #wildfires evacuation or...</td>\n",
       "      <td>1.0</td>\n",
       "      <td>peple receve wlfre evcun rer n clfrn</td>\n",
       "    </tr>\n",
       "    <tr>\n",
       "      <td>4</td>\n",
       "      <td>7</td>\n",
       "      <td>None</td>\n",
       "      <td>None</td>\n",
       "      <td>Just got sent this photo from Ruby #Alaska as ...</td>\n",
       "      <td>1.0</td>\n",
       "      <td>ju g en h ph fr rub lk  ke fr wlfre pur n  chl</td>\n",
       "    </tr>\n",
       "  </tbody>\n",
       "</table>\n",
       "</div>"
      ],
      "text/plain": [
       "   id keyword location                                               text  \\\n",
       "0   1    None     None  Our Deeds are the Reason of this #earthquake M...   \n",
       "1   4    None     None             Forest fire near La Ronge Sask. Canada   \n",
       "2   5    None     None  All residents asked to 'shelter in place' are ...   \n",
       "3   6    None     None  13,000 people receive #wildfires evacuation or...   \n",
       "4   7    None     None  Just got sent this photo from Ruby #Alaska as ...   \n",
       "\n",
       "   target                                         clean_text  \n",
       "0     1.0        ur ee re he ren f h erhquke  llh frgve u ll  \n",
       "1     1.0                            fre fre ner l rnge k cn  \n",
       "2     1.0  ll reen ke  heler n plce re beng nfe b ffcer n...  \n",
       "3     1.0              peple receve wlfre evcun rer n clfrn   \n",
       "4     1.0    ju g en h ph fr rub lk  ke fr wlfre pur n  chl   "
      ]
     },
     "execution_count": 78,
     "metadata": {},
     "output_type": "execute_result"
    }
   ],
   "source": [
    "total_data.head()"
   ]
  },
  {
   "cell_type": "code",
   "execution_count": 79,
   "metadata": {},
   "outputs": [],
   "source": [
    "#save the cleaned data for future processing\n",
    "total_data.to_csv('cleaned_data.csv')"
   ]
  },
  {
   "cell_type": "code",
   "execution_count": null,
   "metadata": {},
   "outputs": [],
   "source": []
  },
  {
   "cell_type": "code",
   "execution_count": null,
   "metadata": {},
   "outputs": [],
   "source": []
  },
  {
   "cell_type": "code",
   "execution_count": 80,
   "metadata": {
    "colab": {},
    "colab_type": "code",
    "id": "-uQGmGlaaXpx"
   },
   "outputs": [],
   "source": [
    "# vectorize\n",
    "def vectorize_text(text):\n",
    "  # just skipping CountVectorizer \n",
    "  vec = TfidfVectorizer() #CountVectorizer() #TfidfVectorizer()\n",
    "  vectorized_text = vec.fit_transform(text)\n",
    "  return vec, vectorized_text"
   ]
  },
  {
   "cell_type": "code",
   "execution_count": 82,
   "metadata": {
    "colab": {},
    "colab_type": "code",
    "id": "wP7FS5MD_mKE"
   },
   "outputs": [],
   "source": [
    "# Define a metrics function named get_metrics to evaluate the model's performance\n",
    "def get_metrics(y_test, y_predicted):  \n",
    "    # true positives / (true positives+false positives)\n",
    "    precision = precision_score(y_test, y_predicted, pos_label=None,\n",
    "                                    average='weighted')             \n",
    "    # true positives / (true positives + false negatives)\n",
    "    recall = recall_score(y_test, y_predicted, pos_label=None,\n",
    "                              average='weighted')\n",
    "    \n",
    "    # harmonic mean of precision and recall\n",
    "    f1 = f1_score(y_test, y_predicted, pos_label=None, average='weighted')\n",
    "    \n",
    "    # true positives + true negatives/ total\n",
    "    accuracy = accuracy_score(y_test, y_predicted)\n",
    "    return accuracy, precision, recall, f1"
   ]
  },
  {
   "cell_type": "code",
   "execution_count": 83,
   "metadata": {},
   "outputs": [],
   "source": [
    "def scaled_data(X, X_valid):\n",
    "    from sklearn.preprocessing import StandardScaler\n",
    "    scaler_X = StandardScaler()\n",
    "    X = scaler_X.fit_transform(X)\n",
    "    X_valid = scaler_X.transform(X_valid)\n",
    "    return X, X_valid, scaler_X  "
   ]
  },
  {
   "cell_type": "code",
   "execution_count": 137,
   "metadata": {
    "colab": {},
    "colab_type": "code",
    "id": "TkXYUqlc_mHV"
   },
   "outputs": [],
   "source": [
    "\"\"\"\n",
    "model_type : \n",
    "1 - Random forest(default)\n",
    "2 - RidgeClassifier\n",
    "3 - SVC\n",
    "\"\"\"\n",
    "#create a traditional sklearn model\n",
    "def create_model(X, y, train_len, model_type=1):\n",
    "\n",
    "  # split\n",
    "  X_train = X[:train_len]\n",
    "  X_test = X[train_len:]\n",
    "  y_train = y[:train_len]\n",
    "  y_test = y[train_len:]\n",
    "  y_predict = []\n",
    "  #X_train, X_test, y_train, y_test = train_test_split()\n",
    "  # vectorize\n",
    "  vec, X_train = vectorize_text(X_train)\n",
    "  X_test = vec.transform(X_test)\n",
    "\n",
    "  #X_Train, X_valid, scaler_X = scaled_data(X_train, X_test)\n",
    "  #X_Test = scaler_X.transform(X_test)\n",
    "    \n",
    "  if model_type == 1: #RF classifier\n",
    "    model = RandomForestClassifier(random_state=21)\n",
    "    model.fit(X_train, y_train)\n",
    "   \n",
    "  elif model_type == 2: #RidgeClassifier\n",
    "    model = RidgeClassifier(random_state=21)\n",
    "    model.fit(X_train, y_train)\n",
    "   \n",
    "  elif model_type == 3: #SVC\n",
    "    model = SVC(C=1.0, kernel='rbf',random_state=21)\n",
    "    model.fit(X_train, y_train)\n",
    "    \n",
    "  cval = cross_val_score(model, X_train, y_train, scoring = 'balanced_accuracy', cv = 3)\n",
    "  y_predict = model.predict(X_test)\n",
    "  #print(\"cross validation score:{}\".format(cval))\n",
    "  #accuracy, precision, recall, f1 = get_metrics(y_test, y_predict)  \n",
    "  #print(\"accuracy {}, precision {}, recall {}, f1 {}\".format(accuracy, precision, recall, f1))\n",
    "  \n",
    "  return y_predict"
   ]
  },
  {
   "cell_type": "code",
   "execution_count": null,
   "metadata": {},
   "outputs": [],
   "source": []
  },
  {
   "cell_type": "code",
   "execution_count": 138,
   "metadata": {
    "colab": {},
    "colab_type": "code",
    "id": "9_KQxL4d_mD9"
   },
   "outputs": [
    {
     "data": {
      "text/plain": [
       "pandas.core.series.Series"
      ]
     },
     "execution_count": 138,
     "metadata": {},
     "output_type": "execute_result"
    }
   ],
   "source": [
    "#read the saved data\n",
    "df = pd.read_csv('cleaned_data.csv')\n",
    "X = df['clean_text']\n",
    "y = df['target']\n",
    "\n",
    "#create_model(X, y, train_len, 1)\n",
    "y_predict = create_model(X, y, train_len, 2) #RidgeClassifier\n",
    "#create_model(X, y, train_len, 3) #svc"
   ]
  },
  {
   "cell_type": "code",
   "execution_count": 136,
   "metadata": {},
   "outputs": [],
   "source": [
    "#write the predictions to a file\n",
    "predict = pd.DataFrame({'text':tdata['text'], 'prediction':y_predict})\n",
    "predict.to_csv('final_prediction.csv')\n"
   ]
  },
  {
   "cell_type": "code",
   "execution_count": 41,
   "metadata": {
    "colab": {},
    "colab_type": "code",
    "id": "srZVtYpCWYCz"
   },
   "outputs": [],
   "source": []
  },
  {
   "cell_type": "code",
   "execution_count": 51,
   "metadata": {},
   "outputs": [],
   "source": []
  },
  {
   "cell_type": "code",
   "execution_count": 42,
   "metadata": {
    "colab": {},
    "colab_type": "code",
    "id": "U8YT2b_lX8y0"
   },
   "outputs": [],
   "source": []
  },
  {
   "cell_type": "code",
   "execution_count": null,
   "metadata": {
    "colab": {},
    "colab_type": "code",
    "id": "h0EENbrcZ2q8"
   },
   "outputs": [],
   "source": []
  },
  {
   "cell_type": "code",
   "execution_count": null,
   "metadata": {},
   "outputs": [],
   "source": []
  },
  {
   "cell_type": "code",
   "execution_count": null,
   "metadata": {},
   "outputs": [],
   "source": []
  }
 ],
 "metadata": {
  "accelerator": "GPU",
  "colab": {
   "authorship_tag": "ABX9TyNjFfL+4s+y6cYfx898jtF2",
   "collapsed_sections": [],
   "mount_file_id": "1lBK6zMA-p9bgAVQjSVWxEkU5n3YMAuWc",
   "name": "nlp_disaster_tweet_analysis.ipynb",
   "provenance": [],
   "toc_visible": true
  },
  "kernelspec": {
   "display_name": "Python 3",
   "language": "python",
   "name": "python3"
  },
  "language_info": {
   "codemirror_mode": {
    "name": "ipython",
    "version": 3
   },
   "file_extension": ".py",
   "mimetype": "text/x-python",
   "name": "python",
   "nbconvert_exporter": "python",
   "pygments_lexer": "ipython3",
   "version": "3.7.4"
  }
 },
 "nbformat": 4,
 "nbformat_minor": 4
}
