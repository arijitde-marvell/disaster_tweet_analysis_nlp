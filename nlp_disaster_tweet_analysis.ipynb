{
 "cells": [
  {
   "cell_type": "markdown",
   "metadata": {
    "colab_type": "text",
    "id": "Zz8TI9bzWVbf"
   },
   "source": [
    "Comparison of Disaster tweets : \n",
    "The aim of this notebook is to classify tweets potentially related to catastrophes into real or misleading tweets. Here comparison between several ML techniques will be also done."
   ]
  },
  {
   "cell_type": "code",
   "execution_count": 105,
   "metadata": {
    "colab": {},
    "colab_type": "code",
    "id": "6xFvKMzRWZJ0"
   },
   "outputs": [],
   "source": [
    "import pandas as pd\n",
    "import seaborn as sb\n",
    "import matplotlib.pyplot as plt\n",
    "\n",
    "import string\n",
    "import nltk\n",
    "import re # regular expressions\n",
    "\n",
    "import time\n",
    "import numpy as np"
   ]
  },
  {
   "cell_type": "code",
   "execution_count": 5,
   "metadata": {
    "colab": {},
    "colab_type": "code",
    "id": "9O4A9l2U15Fl"
   },
   "outputs": [],
   "source": [
    "#!pip install pyspellchecker"
   ]
  },
  {
   "cell_type": "code",
   "execution_count": 6,
   "metadata": {
    "colab": {},
    "colab_type": "code",
    "id": "34bIRVvs190P"
   },
   "outputs": [],
   "source": [
    "#from spellchecker import SpellChecker\n",
    "from sklearn.feature_extraction.text import TfidfVectorizer, CountVectorizer\n",
    "from sklearn.model_selection import train_test_split\n",
    "from sklearn.ensemble import RandomForestClassifier\n",
    "from sklearn.model_selection import cross_val_score\n",
    "from sklearn.metrics import precision_score, recall_score, f1_score, accuracy_score\n",
    "from sklearn.linear_model import RidgeClassifier\n",
    "from sklearn.svm import SVC\n",
    "from sklearn.naive_bayes import GaussianNB, BernoulliNB, MultinomialNB\n",
    "from sklearn.feature_selection import SelectPercentile\n",
    "\n",
    "# pip install xgboost\n",
    "import xgboost\n",
    "from xgboost import XGBClassifier"
   ]
  },
  {
   "cell_type": "code",
   "execution_count": 7,
   "metadata": {
    "colab": {},
    "colab_type": "code",
    "id": "QsjTOnwH1_sA"
   },
   "outputs": [],
   "source": [
    "import spacy\n",
    "from spacy.lang.en import English"
   ]
  },
  {
   "cell_type": "code",
   "execution_count": 8,
   "metadata": {
    "colab": {},
    "colab_type": "code",
    "id": "bHh4cXAA1_py"
   },
   "outputs": [],
   "source": [
    "import string"
   ]
  },
  {
   "cell_type": "code",
   "execution_count": 9,
   "metadata": {
    "colab": {
     "base_uri": "https://localhost:8080/",
     "height": 72
    },
    "colab_type": "code",
    "executionInfo": {
     "elapsed": 2334,
     "status": "ok",
     "timestamp": 1584798465575,
     "user": {
      "displayName": "send2arijit",
      "photoUrl": "https://lh3.googleusercontent.com/a-/AOh14Gj1G8wTuZqr4dDOS6SGDSN4JMr6eNNt_KO7UYSqUw=s64",
      "userId": "12938584335714059605"
     },
     "user_tz": -330
    },
    "id": "SuNVeiMeosi7",
    "outputId": "b9d040ca-b428-4614-f5c6-feb214130eb2"
   },
   "outputs": [
    {
     "name": "stderr",
     "output_type": "stream",
     "text": [
      "[nltk_data] Downloading package stopwords to\n",
      "[nltk_data]     C:\\Users\\arijit\\AppData\\Roaming\\nltk_data...\n",
      "[nltk_data]   Package stopwords is already up-to-date!\n"
     ]
    },
    {
     "data": {
      "text/plain": [
       "True"
      ]
     },
     "execution_count": 9,
     "metadata": {},
     "output_type": "execute_result"
    }
   ],
   "source": [
    "nltk.download('stopwords')"
   ]
  },
  {
   "cell_type": "code",
   "execution_count": 10,
   "metadata": {
    "colab": {
     "base_uri": "https://localhost:8080/",
     "height": 72
    },
    "colab_type": "code",
    "executionInfo": {
     "elapsed": 4727,
     "status": "ok",
     "timestamp": 1584798467992,
     "user": {
      "displayName": "send2arijit",
      "photoUrl": "https://lh3.googleusercontent.com/a-/AOh14Gj1G8wTuZqr4dDOS6SGDSN4JMr6eNNt_KO7UYSqUw=s64",
      "userId": "12938584335714059605"
     },
     "user_tz": -330
    },
    "id": "HU1jLnopXbG_",
    "outputId": "3b4be966-310b-4740-9a88-3a5f18fc3777"
   },
   "outputs": [],
   "source": [
    "#!ls sample_data"
   ]
  },
  {
   "cell_type": "code",
   "execution_count": 11,
   "metadata": {
    "colab": {},
    "colab_type": "code",
    "id": "3PrIXULAXbKQ"
   },
   "outputs": [],
   "source": [
    "#!cp test.csv train.csv sample_data"
   ]
  },
  {
   "cell_type": "code",
   "execution_count": 12,
   "metadata": {
    "colab": {
     "base_uri": "https://localhost:8080/",
     "height": 198
    },
    "colab_type": "code",
    "executionInfo": {
     "elapsed": 7176,
     "status": "ok",
     "timestamp": 1584798470486,
     "user": {
      "displayName": "send2arijit",
      "photoUrl": "https://lh3.googleusercontent.com/a-/AOh14Gj1G8wTuZqr4dDOS6SGDSN4JMr6eNNt_KO7UYSqUw=s64",
      "userId": "12938584335714059605"
     },
     "user_tz": -330
    },
    "id": "rSrWaJ3vW6rY",
    "outputId": "96e1981f-743e-4cca-df7d-d13a890dc282"
   },
   "outputs": [
    {
     "data": {
      "text/html": [
       "<div>\n",
       "<style scoped>\n",
       "    .dataframe tbody tr th:only-of-type {\n",
       "        vertical-align: middle;\n",
       "    }\n",
       "\n",
       "    .dataframe tbody tr th {\n",
       "        vertical-align: top;\n",
       "    }\n",
       "\n",
       "    .dataframe thead th {\n",
       "        text-align: right;\n",
       "    }\n",
       "</style>\n",
       "<table border=\"1\" class=\"dataframe\">\n",
       "  <thead>\n",
       "    <tr style=\"text-align: right;\">\n",
       "      <th></th>\n",
       "      <th>id</th>\n",
       "      <th>keyword</th>\n",
       "      <th>location</th>\n",
       "      <th>text</th>\n",
       "      <th>target</th>\n",
       "    </tr>\n",
       "  </thead>\n",
       "  <tbody>\n",
       "    <tr>\n",
       "      <td>0</td>\n",
       "      <td>1</td>\n",
       "      <td>NaN</td>\n",
       "      <td>NaN</td>\n",
       "      <td>Our Deeds are the Reason of this #earthquake M...</td>\n",
       "      <td>1</td>\n",
       "    </tr>\n",
       "    <tr>\n",
       "      <td>1</td>\n",
       "      <td>4</td>\n",
       "      <td>NaN</td>\n",
       "      <td>NaN</td>\n",
       "      <td>Forest fire near La Ronge Sask. Canada</td>\n",
       "      <td>1</td>\n",
       "    </tr>\n",
       "    <tr>\n",
       "      <td>2</td>\n",
       "      <td>5</td>\n",
       "      <td>NaN</td>\n",
       "      <td>NaN</td>\n",
       "      <td>All residents asked to 'shelter in place' are ...</td>\n",
       "      <td>1</td>\n",
       "    </tr>\n",
       "    <tr>\n",
       "      <td>3</td>\n",
       "      <td>6</td>\n",
       "      <td>NaN</td>\n",
       "      <td>NaN</td>\n",
       "      <td>13,000 people receive #wildfires evacuation or...</td>\n",
       "      <td>1</td>\n",
       "    </tr>\n",
       "    <tr>\n",
       "      <td>4</td>\n",
       "      <td>7</td>\n",
       "      <td>NaN</td>\n",
       "      <td>NaN</td>\n",
       "      <td>Just got sent this photo from Ruby #Alaska as ...</td>\n",
       "      <td>1</td>\n",
       "    </tr>\n",
       "  </tbody>\n",
       "</table>\n",
       "</div>"
      ],
      "text/plain": [
       "   id keyword location                                               text  \\\n",
       "0   1     NaN      NaN  Our Deeds are the Reason of this #earthquake M...   \n",
       "1   4     NaN      NaN             Forest fire near La Ronge Sask. Canada   \n",
       "2   5     NaN      NaN  All residents asked to 'shelter in place' are ...   \n",
       "3   6     NaN      NaN  13,000 people receive #wildfires evacuation or...   \n",
       "4   7     NaN      NaN  Just got sent this photo from Ruby #Alaska as ...   \n",
       "\n",
       "   target  \n",
       "0       1  \n",
       "1       1  \n",
       "2       1  \n",
       "3       1  \n",
       "4       1  "
      ]
     },
     "execution_count": 12,
     "metadata": {},
     "output_type": "execute_result"
    }
   ],
   "source": [
    "# training data\n",
    "data = pd.read_csv('train.csv')\n",
    "data.head()"
   ]
  },
  {
   "cell_type": "code",
   "execution_count": 13,
   "metadata": {
    "colab": {
     "base_uri": "https://localhost:8080/",
     "height": 35
    },
    "colab_type": "code",
    "executionInfo": {
     "elapsed": 7141,
     "status": "ok",
     "timestamp": 1584798470487,
     "user": {
      "displayName": "send2arijit",
      "photoUrl": "https://lh3.googleusercontent.com/a-/AOh14Gj1G8wTuZqr4dDOS6SGDSN4JMr6eNNt_KO7UYSqUw=s64",
      "userId": "12938584335714059605"
     },
     "user_tz": -330
    },
    "id": "vSkUoKxwUEoM",
    "outputId": "4c3bd1df-d827-43d6-f946-3fdb0dd2ed9d"
   },
   "outputs": [],
   "source": [
    "train_len = len(data)"
   ]
  },
  {
   "cell_type": "code",
   "execution_count": 14,
   "metadata": {
    "colab": {
     "base_uri": "https://localhost:8080/",
     "height": 198
    },
    "colab_type": "code",
    "executionInfo": {
     "elapsed": 7109,
     "status": "ok",
     "timestamp": 1584798470488,
     "user": {
      "displayName": "send2arijit",
      "photoUrl": "https://lh3.googleusercontent.com/a-/AOh14Gj1G8wTuZqr4dDOS6SGDSN4JMr6eNNt_KO7UYSqUw=s64",
      "userId": "12938584335714059605"
     },
     "user_tz": -330
    },
    "id": "AZzJH4pZXX0R",
    "outputId": "6a7506e3-5e25-4a55-9495-790712555f9a"
   },
   "outputs": [
    {
     "data": {
      "text/html": [
       "<div>\n",
       "<style scoped>\n",
       "    .dataframe tbody tr th:only-of-type {\n",
       "        vertical-align: middle;\n",
       "    }\n",
       "\n",
       "    .dataframe tbody tr th {\n",
       "        vertical-align: top;\n",
       "    }\n",
       "\n",
       "    .dataframe thead th {\n",
       "        text-align: right;\n",
       "    }\n",
       "</style>\n",
       "<table border=\"1\" class=\"dataframe\">\n",
       "  <thead>\n",
       "    <tr style=\"text-align: right;\">\n",
       "      <th></th>\n",
       "      <th>id</th>\n",
       "      <th>keyword</th>\n",
       "      <th>location</th>\n",
       "      <th>text</th>\n",
       "    </tr>\n",
       "  </thead>\n",
       "  <tbody>\n",
       "    <tr>\n",
       "      <td>0</td>\n",
       "      <td>0</td>\n",
       "      <td>NaN</td>\n",
       "      <td>NaN</td>\n",
       "      <td>Just happened a terrible car crash</td>\n",
       "    </tr>\n",
       "    <tr>\n",
       "      <td>1</td>\n",
       "      <td>2</td>\n",
       "      <td>NaN</td>\n",
       "      <td>NaN</td>\n",
       "      <td>Heard about #earthquake is different cities, s...</td>\n",
       "    </tr>\n",
       "    <tr>\n",
       "      <td>2</td>\n",
       "      <td>3</td>\n",
       "      <td>NaN</td>\n",
       "      <td>NaN</td>\n",
       "      <td>there is a forest fire at spot pond, geese are...</td>\n",
       "    </tr>\n",
       "    <tr>\n",
       "      <td>3</td>\n",
       "      <td>9</td>\n",
       "      <td>NaN</td>\n",
       "      <td>NaN</td>\n",
       "      <td>Apocalypse lighting. #Spokane #wildfires</td>\n",
       "    </tr>\n",
       "    <tr>\n",
       "      <td>4</td>\n",
       "      <td>11</td>\n",
       "      <td>NaN</td>\n",
       "      <td>NaN</td>\n",
       "      <td>Typhoon Soudelor kills 28 in China and Taiwan</td>\n",
       "    </tr>\n",
       "  </tbody>\n",
       "</table>\n",
       "</div>"
      ],
      "text/plain": [
       "   id keyword location                                               text\n",
       "0   0     NaN      NaN                 Just happened a terrible car crash\n",
       "1   2     NaN      NaN  Heard about #earthquake is different cities, s...\n",
       "2   3     NaN      NaN  there is a forest fire at spot pond, geese are...\n",
       "3   9     NaN      NaN           Apocalypse lighting. #Spokane #wildfires\n",
       "4  11     NaN      NaN      Typhoon Soudelor kills 28 in China and Taiwan"
      ]
     },
     "execution_count": 14,
     "metadata": {},
     "output_type": "execute_result"
    }
   ],
   "source": [
    "# test data\n",
    "tdata = pd.read_csv('test.csv')\n",
    "tdata.head()"
   ]
  },
  {
   "cell_type": "code",
   "execution_count": 15,
   "metadata": {
    "colab": {
     "base_uri": "https://localhost:8080/",
     "height": 35
    },
    "colab_type": "code",
    "executionInfo": {
     "elapsed": 7064,
     "status": "ok",
     "timestamp": 1584798470489,
     "user": {
      "displayName": "send2arijit",
      "photoUrl": "https://lh3.googleusercontent.com/a-/AOh14Gj1G8wTuZqr4dDOS6SGDSN4JMr6eNNt_KO7UYSqUw=s64",
      "userId": "12938584335714059605"
     },
     "user_tz": -330
    },
    "id": "ZIUvajj2YfwM",
    "outputId": "28f816fb-bd08-45f2-d448-c9f0495608a9"
   },
   "outputs": [
    {
     "name": "stdout",
     "output_type": "stream",
     "text": [
      "training data shape: (7613, 5), test data shape: (3263, 4)\n"
     ]
    }
   ],
   "source": [
    "print('training data shape: {}, test data shape: {}'.format(data.shape, tdata.shape))"
   ]
  },
  {
   "cell_type": "code",
   "execution_count": 16,
   "metadata": {
    "colab": {
     "base_uri": "https://localhost:8080/",
     "height": 198
    },
    "colab_type": "code",
    "executionInfo": {
     "elapsed": 7036,
     "status": "ok",
     "timestamp": 1584798470490,
     "user": {
      "displayName": "send2arijit",
      "photoUrl": "https://lh3.googleusercontent.com/a-/AOh14Gj1G8wTuZqr4dDOS6SGDSN4JMr6eNNt_KO7UYSqUw=s64",
      "userId": "12938584335714059605"
     },
     "user_tz": -330
    },
    "id": "lqPJL0jKYmoK",
    "outputId": "e162866c-0e60-4e58-e6ef-cd5db67bfa66"
   },
   "outputs": [
    {
     "data": {
      "text/html": [
       "<div>\n",
       "<style scoped>\n",
       "    .dataframe tbody tr th:only-of-type {\n",
       "        vertical-align: middle;\n",
       "    }\n",
       "\n",
       "    .dataframe tbody tr th {\n",
       "        vertical-align: top;\n",
       "    }\n",
       "\n",
       "    .dataframe thead th {\n",
       "        text-align: right;\n",
       "    }\n",
       "</style>\n",
       "<table border=\"1\" class=\"dataframe\">\n",
       "  <thead>\n",
       "    <tr style=\"text-align: right;\">\n",
       "      <th></th>\n",
       "      <th>id</th>\n",
       "      <th>keyword</th>\n",
       "      <th>location</th>\n",
       "      <th>text</th>\n",
       "      <th>target</th>\n",
       "    </tr>\n",
       "  </thead>\n",
       "  <tbody>\n",
       "    <tr>\n",
       "      <td>0</td>\n",
       "      <td>1</td>\n",
       "      <td>NaN</td>\n",
       "      <td>NaN</td>\n",
       "      <td>Our Deeds are the Reason of this #earthquake M...</td>\n",
       "      <td>1.0</td>\n",
       "    </tr>\n",
       "    <tr>\n",
       "      <td>1</td>\n",
       "      <td>4</td>\n",
       "      <td>NaN</td>\n",
       "      <td>NaN</td>\n",
       "      <td>Forest fire near La Ronge Sask. Canada</td>\n",
       "      <td>1.0</td>\n",
       "    </tr>\n",
       "    <tr>\n",
       "      <td>2</td>\n",
       "      <td>5</td>\n",
       "      <td>NaN</td>\n",
       "      <td>NaN</td>\n",
       "      <td>All residents asked to 'shelter in place' are ...</td>\n",
       "      <td>1.0</td>\n",
       "    </tr>\n",
       "    <tr>\n",
       "      <td>3</td>\n",
       "      <td>6</td>\n",
       "      <td>NaN</td>\n",
       "      <td>NaN</td>\n",
       "      <td>13,000 people receive #wildfires evacuation or...</td>\n",
       "      <td>1.0</td>\n",
       "    </tr>\n",
       "    <tr>\n",
       "      <td>4</td>\n",
       "      <td>7</td>\n",
       "      <td>NaN</td>\n",
       "      <td>NaN</td>\n",
       "      <td>Just got sent this photo from Ruby #Alaska as ...</td>\n",
       "      <td>1.0</td>\n",
       "    </tr>\n",
       "  </tbody>\n",
       "</table>\n",
       "</div>"
      ],
      "text/plain": [
       "   id keyword location                                               text  \\\n",
       "0   1     NaN      NaN  Our Deeds are the Reason of this #earthquake M...   \n",
       "1   4     NaN      NaN             Forest fire near La Ronge Sask. Canada   \n",
       "2   5     NaN      NaN  All residents asked to 'shelter in place' are ...   \n",
       "3   6     NaN      NaN  13,000 people receive #wildfires evacuation or...   \n",
       "4   7     NaN      NaN  Just got sent this photo from Ruby #Alaska as ...   \n",
       "\n",
       "   target  \n",
       "0     1.0  \n",
       "1     1.0  \n",
       "2     1.0  \n",
       "3     1.0  \n",
       "4     1.0  "
      ]
     },
     "execution_count": 16,
     "metadata": {},
     "output_type": "execute_result"
    }
   ],
   "source": [
    "#combine training & test data, but dont shuffale\n",
    "total_data = pd.concat([data, tdata], sort=False)\n",
    "total_data.head()"
   ]
  },
  {
   "cell_type": "code",
   "execution_count": 17,
   "metadata": {
    "colab": {
     "base_uri": "https://localhost:8080/",
     "height": 126
    },
    "colab_type": "code",
    "executionInfo": {
     "elapsed": 7006,
     "status": "ok",
     "timestamp": 1584798470491,
     "user": {
      "displayName": "send2arijit",
      "photoUrl": "https://lh3.googleusercontent.com/a-/AOh14Gj1G8wTuZqr4dDOS6SGDSN4JMr6eNNt_KO7UYSqUw=s64",
      "userId": "12938584335714059605"
     },
     "user_tz": -330
    },
    "id": "doEkWkseZXBC",
    "outputId": "b4baa671-a54c-4400-8b47-b8400e80e328"
   },
   "outputs": [
    {
     "data": {
      "text/plain": [
       "id             0\n",
       "keyword       87\n",
       "location    3638\n",
       "text           0\n",
       "target      3263\n",
       "dtype: int64"
      ]
     },
     "execution_count": 17,
     "metadata": {},
     "output_type": "execute_result"
    }
   ],
   "source": [
    "# check the missing data \n",
    "total_data.isnull().sum()"
   ]
  },
  {
   "cell_type": "code",
   "execution_count": 18,
   "metadata": {
    "colab": {},
    "colab_type": "code",
    "id": "7x1obigWZbhw"
   },
   "outputs": [],
   "source": [
    "# so there are lot of missing values"
   ]
  },
  {
   "cell_type": "code",
   "execution_count": 19,
   "metadata": {
    "colab": {
     "base_uri": "https://localhost:8080/",
     "height": 35
    },
    "colab_type": "code",
    "executionInfo": {
     "elapsed": 6963,
     "status": "ok",
     "timestamp": 1584798470493,
     "user": {
      "displayName": "send2arijit",
      "photoUrl": "https://lh3.googleusercontent.com/a-/AOh14Gj1G8wTuZqr4dDOS6SGDSN4JMr6eNNt_KO7UYSqUw=s64",
      "userId": "12938584335714059605"
     },
     "user_tz": -330
    },
    "id": "F71p51I-Zbsy",
    "outputId": "d109fece-b1cf-47bd-dd79-5d086e365bd5"
   },
   "outputs": [
    {
     "name": "stdout",
     "output_type": "stream",
     "text": [
      "unique values in keyword 221, location 4521\n"
     ]
    }
   ],
   "source": [
    "print('unique values in keyword {}, location {}'.format(total_data.keyword.nunique(), total_data.location.nunique()))"
   ]
  },
  {
   "cell_type": "code",
   "execution_count": 20,
   "metadata": {
    "colab": {},
    "colab_type": "code",
    "id": "zzQJ2pJNZbq9"
   },
   "outputs": [],
   "source": [
    "# check the distribution of target if there they are uneven \n",
    "def show_target_barplot():\n",
    "  \"\"\" plot target distribution \"\"\"\n",
    "  target_types = data.target.value_counts()\n",
    "  plot = sb.barplot(y=target_types, x=data.target.value_counts().index)\n",
    "  plot.set_title('target distribution')"
   ]
  },
  {
   "cell_type": "code",
   "execution_count": 21,
   "metadata": {
    "colab": {
     "base_uri": "https://localhost:8080/",
     "height": 281
    },
    "colab_type": "code",
    "executionInfo": {
     "elapsed": 6921,
     "status": "ok",
     "timestamp": 1584798470495,
     "user": {
      "displayName": "send2arijit",
      "photoUrl": "https://lh3.googleusercontent.com/a-/AOh14Gj1G8wTuZqr4dDOS6SGDSN4JMr6eNNt_KO7UYSqUw=s64",
      "userId": "12938584335714059605"
     },
     "user_tz": -330
    },
    "id": "iCIS_QONZbow",
    "outputId": "55c51fce-7147-4ae9-a9f1-e9579f8e5868"
   },
   "outputs": [
    {
     "data": {
      "image/png": "[encoded data removed]",
      "text/plain": [
       "<Figure size 432x288 with 1 Axes>"
      ]
     },
     "metadata": {
      "needs_background": "light"
     },
     "output_type": "display_data"
    }
   ],
   "source": [
    "show_target_barplot()"
   ]
  },
  {
   "cell_type": "markdown",
   "metadata": {
    "colab_type": "text",
    "id": "Cr8J8XSvvGRg"
   },
   "source": [
    "'target' type counts looks to be not too deviated."
   ]
  },
  {
   "cell_type": "code",
   "execution_count": 22,
   "metadata": {
    "colab": {},
    "colab_type": "code",
    "id": "GQC4e_w2Zbmy"
   },
   "outputs": [],
   "source": [
    "# Analyze the keyword & location feature and fill the missing values\n",
    "def plot_keyword_location():\n",
    "  fig, ax =plt.subplots(1,2)\n",
    "  fig.subplots_adjust(hspace=0.5 , wspace=0.5)\n",
    "\n",
    "  target_types = data.keyword.value_counts()[:10]\n",
    "  # check for first few common names\n",
    "  plot = sb.barplot(x=target_types, y=data.keyword.value_counts()[:10].index, ax=ax[0])\n",
    "  plot.set_title('keyword types')\n",
    "\n",
    "  location_types = data.location.value_counts()[:10]\n",
    "  plot2 = sb.barplot(x=location_types, y=data.location.value_counts()[:10].index, ax=ax[1])\n",
    "  plot2.set_title('location types')\n",
    "\n",
    "  fig.show()"
   ]
  },
  {
   "cell_type": "code",
   "execution_count": 23,
   "metadata": {
    "colab": {
     "base_uri": "https://localhost:8080/",
     "height": 295
    },
    "colab_type": "code",
    "executionInfo": {
     "elapsed": 7333,
     "status": "ok",
     "timestamp": 1584798470955,
     "user": {
      "displayName": "send2arijit",
      "photoUrl": "https://lh3.googleusercontent.com/a-/AOh14Gj1G8wTuZqr4dDOS6SGDSN4JMr6eNNt_KO7UYSqUw=s64",
      "userId": "12938584335714059605"
     },
     "user_tz": -330
    },
    "id": "qa6a_xzOZbko",
    "outputId": "76f22576-5e2e-4267-d8d9-c09fe9262ff2"
   },
   "outputs": [
    {
     "name": "stderr",
     "output_type": "stream",
     "text": [
      "C:\\Users\\arijit\\AppData\\Local\\Continuum\\anaconda3\\lib\\site-packages\\ipykernel_launcher.py:15: UserWarning: Matplotlib is currently using module://ipykernel.pylab.backend_inline, which is a non-GUI backend, so cannot show the figure.\n",
      "  from ipykernel import kernelapp as app\n"
     ]
    },
    {
     "data": {
      "image/png": "[encoded data removed]",
      "text/plain": [
       "<Figure size 432x288 with 2 Axes>"
      ]
     },
     "metadata": {
      "needs_background": "light"
     },
     "output_type": "display_data"
    }
   ],
   "source": [
    "plot_keyword_location()"
   ]
  },
  {
   "cell_type": "code",
   "execution_count": 24,
   "metadata": {
    "colab": {},
    "colab_type": "code",
    "id": "he8dijwxAI6z"
   },
   "outputs": [],
   "source": [
    "def fill_misiing_val():\n",
    "  \"\"\" fill missing values with None \"\"\"\n",
    "  total_data.location.fillna('None', inplace=True)\n",
    "  total_data.keyword.fillna('None', inplace=True)\n",
    "\n",
    "  total_data.target.fillna(0, inplace=True)\n",
    "\n",
    "fill_misiing_val()"
   ]
  },
  {
   "cell_type": "code",
   "execution_count": 25,
   "metadata": {
    "colab": {
     "base_uri": "https://localhost:8080/",
     "height": 126
    },
    "colab_type": "code",
    "executionInfo": {
     "elapsed": 7284,
     "status": "ok",
     "timestamp": 1584798470957,
     "user": {
      "displayName": "send2arijit",
      "photoUrl": "https://lh3.googleusercontent.com/a-/AOh14Gj1G8wTuZqr4dDOS6SGDSN4JMr6eNNt_KO7UYSqUw=s64",
      "userId": "12938584335714059605"
     },
     "user_tz": -330
    },
    "id": "N_F3A6xYCsMK",
    "outputId": "84adc525-ca1e-49d1-b990-718393b46121"
   },
   "outputs": [
    {
     "data": {
      "text/plain": [
       "id          0\n",
       "keyword     0\n",
       "location    0\n",
       "text        0\n",
       "target      0\n",
       "dtype: int64"
      ]
     },
     "execution_count": 25,
     "metadata": {},
     "output_type": "execute_result"
    }
   ],
   "source": [
    "total_data.isnull().sum()"
   ]
  },
  {
   "cell_type": "code",
   "execution_count": 26,
   "metadata": {
    "colab": {
     "base_uri": "https://localhost:8080/",
     "height": 198
    },
    "colab_type": "code",
    "executionInfo": {
     "elapsed": 7255,
     "status": "ok",
     "timestamp": 1584798470958,
     "user": {
      "displayName": "send2arijit",
      "photoUrl": "https://lh3.googleusercontent.com/a-/AOh14Gj1G8wTuZqr4dDOS6SGDSN4JMr6eNNt_KO7UYSqUw=s64",
      "userId": "12938584335714059605"
     },
     "user_tz": -330
    },
    "id": "6ETYvCazC4ze",
    "outputId": "427a372a-a4a5-4cc2-c0cb-ca6fced555ca"
   },
   "outputs": [
    {
     "data": {
      "text/html": [
       "<div>\n",
       "<style scoped>\n",
       "    .dataframe tbody tr th:only-of-type {\n",
       "        vertical-align: middle;\n",
       "    }\n",
       "\n",
       "    .dataframe tbody tr th {\n",
       "        vertical-align: top;\n",
       "    }\n",
       "\n",
       "    .dataframe thead th {\n",
       "        text-align: right;\n",
       "    }\n",
       "</style>\n",
       "<table border=\"1\" class=\"dataframe\">\n",
       "  <thead>\n",
       "    <tr style=\"text-align: right;\">\n",
       "      <th></th>\n",
       "      <th>id</th>\n",
       "      <th>keyword</th>\n",
       "      <th>location</th>\n",
       "      <th>text</th>\n",
       "      <th>target</th>\n",
       "    </tr>\n",
       "  </thead>\n",
       "  <tbody>\n",
       "    <tr>\n",
       "      <td>0</td>\n",
       "      <td>1</td>\n",
       "      <td>None</td>\n",
       "      <td>None</td>\n",
       "      <td>Our Deeds are the Reason of this #earthquake M...</td>\n",
       "      <td>1.0</td>\n",
       "    </tr>\n",
       "    <tr>\n",
       "      <td>1</td>\n",
       "      <td>4</td>\n",
       "      <td>None</td>\n",
       "      <td>None</td>\n",
       "      <td>Forest fire near La Ronge Sask. Canada</td>\n",
       "      <td>1.0</td>\n",
       "    </tr>\n",
       "    <tr>\n",
       "      <td>2</td>\n",
       "      <td>5</td>\n",
       "      <td>None</td>\n",
       "      <td>None</td>\n",
       "      <td>All residents asked to 'shelter in place' are ...</td>\n",
       "      <td>1.0</td>\n",
       "    </tr>\n",
       "    <tr>\n",
       "      <td>3</td>\n",
       "      <td>6</td>\n",
       "      <td>None</td>\n",
       "      <td>None</td>\n",
       "      <td>13,000 people receive #wildfires evacuation or...</td>\n",
       "      <td>1.0</td>\n",
       "    </tr>\n",
       "    <tr>\n",
       "      <td>4</td>\n",
       "      <td>7</td>\n",
       "      <td>None</td>\n",
       "      <td>None</td>\n",
       "      <td>Just got sent this photo from Ruby #Alaska as ...</td>\n",
       "      <td>1.0</td>\n",
       "    </tr>\n",
       "  </tbody>\n",
       "</table>\n",
       "</div>"
      ],
      "text/plain": [
       "   id keyword location                                               text  \\\n",
       "0   1    None     None  Our Deeds are the Reason of this #earthquake M...   \n",
       "1   4    None     None             Forest fire near La Ronge Sask. Canada   \n",
       "2   5    None     None  All residents asked to 'shelter in place' are ...   \n",
       "3   6    None     None  13,000 people receive #wildfires evacuation or...   \n",
       "4   7    None     None  Just got sent this photo from Ruby #Alaska as ...   \n",
       "\n",
       "   target  \n",
       "0     1.0  \n",
       "1     1.0  \n",
       "2     1.0  \n",
       "3     1.0  \n",
       "4     1.0  "
      ]
     },
     "execution_count": 26,
     "metadata": {},
     "output_type": "execute_result"
    }
   ],
   "source": [
    "total_data.head()"
   ]
  },
  {
   "cell_type": "code",
   "execution_count": null,
   "metadata": {
    "colab": {},
    "colab_type": "code",
    "id": "2bgoSgF2DKfp"
   },
   "outputs": [],
   "source": []
  },
  {
   "cell_type": "code",
   "execution_count": null,
   "metadata": {
    "colab": {},
    "colab_type": "code",
    "id": "C_a594r2GsVn"
   },
   "outputs": [],
   "source": []
  },
  {
   "cell_type": "markdown",
   "metadata": {
    "colab_type": "text",
    "id": "ifURyZe2HK9K"
   },
   "source": [
    "Data is now ready for cleaning\n",
    "\n",
    "This data is having all weblinks and spaces as well\n",
    "*   Need to clean the text *data*\n",
    "*   remove punctuations\n",
    "*   List item\n",
    "*   lower case \n",
    "*   remove \n",
    "\n",
    "\n",
    "\n",
    "\n",
    "\n"
   ]
  },
  {
   "cell_type": "code",
   "execution_count": 27,
   "metadata": {
    "colab": {},
    "colab_type": "code",
    "id": "2mMDsFURGsTq"
   },
   "outputs": [],
   "source": [
    "def remove_punctuations_and_nums(text):\n",
    "  \"\"\" remove '!\"#$%&\\'()*+,-./:;<=>?@[\\\\]^_`{|}~' and numbers \"\"\"\n",
    "  clean_data = ''.join([x for x in text if x not in string.punctuation])\n",
    "  clean_data = ''.join([x for x in clean_data if x not in string.digits])\n",
    "  return clean_data\n",
    "\n",
    "def remove_stopwords(text):\n",
    "  clean_data = ''.join([x for x in text if x not in nltk.corpus.stopwords.words('english')])\n",
    "  return clean_data\n",
    "\n",
    "def remove_weblinks(text):\n",
    "  clean_data = re.sub('www.|https://|http://|.com|t.co/','', text)\n",
    "  return clean_data\n",
    "\n",
    "def remove_nonascii(text):\n",
    "  clean_text = ''.join([x for x in text if ord(x) < 128])\n",
    "  return clean_text\n",
    "\n",
    "#spell = SpellChecker()\n",
    "def correct_spelling(text):\n",
    "  \"\"\" spelling correction \"\"\"\n",
    "  mispelled = spell.unknown(text.split())\n",
    "\n",
    "  correct_text = []\n",
    "  for word in text.split():\n",
    "    if word in mispelled:\n",
    "      correct_text.append(spell.correction(word))\n",
    "    else:\n",
    "      correct_text.append(word)\n",
    "\n",
    "  return correct_text\n",
    "\n",
    "def clean_text(data):\n",
    "  # convert to lower case\n",
    "  data['clean_text'] = data['text'].apply(lambda x: x.lower())\n",
    "  print('lower case')\n",
    "  # remove punc & digits\n",
    "  data['clean_text'] = data['clean_text'].apply(lambda x: remove_punctuations_and_nums(x))\n",
    "  # remove stopwords\n",
    "  data['clean_text'] = data['clean_text'].apply(lambda x: remove_stopwords(x))\n",
    "  # remove all web links\n",
    "  data['clean_text'] = data['clean_text'].apply(lambda x: remove_weblinks(x)) # takes time\n",
    "  # remove non ascii charecters\n",
    "  data['clean_text'] = data['clean_text'].apply(lambda x: remove_nonascii(x))\n",
    "  # removing any leading and trailing whitespaces including tabs\n",
    "  #data['clean_text'] = data['clean_text'].apply(lambda x: x.strip())\n",
    "\n",
    "  # correct spelling\n",
    "  # data['clean_text'] = data['clean_text'].apply(lambda x: correct_spelling(x)) #takes time to process\n",
    "  \n",
    "  # Lemmatization TBD\n",
    "  "
   ]
  },
  {
   "cell_type": "code",
   "execution_count": 28,
   "metadata": {
    "colab": {},
    "colab_type": "code",
    "id": "FKbA6LmNGsRq"
   },
   "outputs": [
    {
     "name": "stdout",
     "output_type": "stream",
     "text": [
      "lower case\n"
     ]
    }
   ],
   "source": [
    "clean_text(total_data)"
   ]
  },
  {
   "cell_type": "code",
   "execution_count": 29,
   "metadata": {
    "colab": {
     "base_uri": "https://localhost:8080/",
     "height": 267
    },
    "colab_type": "code",
    "executionInfo": {
     "elapsed": 95593,
     "status": "ok",
     "timestamp": 1584798559362,
     "user": {
      "displayName": "send2arijit",
      "photoUrl": "https://lh3.googleusercontent.com/a-/AOh14Gj1G8wTuZqr4dDOS6SGDSN4JMr6eNNt_KO7UYSqUw=s64",
      "userId": "12938584335714059605"
     },
     "user_tz": -330
    },
    "id": "QQJlIw_5aV5H",
    "outputId": "05fe92da-a3cb-481a-c530-449b4ea082a3"
   },
   "outputs": [
    {
     "data": {
      "text/html": [
       "<div>\n",
       "<style scoped>\n",
       "    .dataframe tbody tr th:only-of-type {\n",
       "        vertical-align: middle;\n",
       "    }\n",
       "\n",
       "    .dataframe tbody tr th {\n",
       "        vertical-align: top;\n",
       "    }\n",
       "\n",
       "    .dataframe thead th {\n",
       "        text-align: right;\n",
       "    }\n",
       "</style>\n",
       "<table border=\"1\" class=\"dataframe\">\n",
       "  <thead>\n",
       "    <tr style=\"text-align: right;\">\n",
       "      <th></th>\n",
       "      <th>id</th>\n",
       "      <th>keyword</th>\n",
       "      <th>location</th>\n",
       "      <th>text</th>\n",
       "      <th>target</th>\n",
       "      <th>clean_text</th>\n",
       "    </tr>\n",
       "  </thead>\n",
       "  <tbody>\n",
       "    <tr>\n",
       "      <td>0</td>\n",
       "      <td>1</td>\n",
       "      <td>None</td>\n",
       "      <td>None</td>\n",
       "      <td>Our Deeds are the Reason of this #earthquake M...</td>\n",
       "      <td>1.0</td>\n",
       "      <td>ur ee re he ren f h erhquke  llh frgve u ll</td>\n",
       "    </tr>\n",
       "    <tr>\n",
       "      <td>1</td>\n",
       "      <td>4</td>\n",
       "      <td>None</td>\n",
       "      <td>None</td>\n",
       "      <td>Forest fire near La Ronge Sask. Canada</td>\n",
       "      <td>1.0</td>\n",
       "      <td>fre fre ner l rnge k cn</td>\n",
       "    </tr>\n",
       "    <tr>\n",
       "      <td>2</td>\n",
       "      <td>5</td>\n",
       "      <td>None</td>\n",
       "      <td>None</td>\n",
       "      <td>All residents asked to 'shelter in place' are ...</td>\n",
       "      <td>1.0</td>\n",
       "      <td>ll reen ke  heler n plce re beng nfe b ffcer n...</td>\n",
       "    </tr>\n",
       "    <tr>\n",
       "      <td>3</td>\n",
       "      <td>6</td>\n",
       "      <td>None</td>\n",
       "      <td>None</td>\n",
       "      <td>13,000 people receive #wildfires evacuation or...</td>\n",
       "      <td>1.0</td>\n",
       "      <td>peple receve wlfre evcun rer n clfrn</td>\n",
       "    </tr>\n",
       "    <tr>\n",
       "      <td>4</td>\n",
       "      <td>7</td>\n",
       "      <td>None</td>\n",
       "      <td>None</td>\n",
       "      <td>Just got sent this photo from Ruby #Alaska as ...</td>\n",
       "      <td>1.0</td>\n",
       "      <td>ju g en h ph fr rub lk  ke fr wlfre pur n  chl</td>\n",
       "    </tr>\n",
       "  </tbody>\n",
       "</table>\n",
       "</div>"
      ],
      "text/plain": [
       "   id keyword location                                               text  \\\n",
       "0   1    None     None  Our Deeds are the Reason of this #earthquake M...   \n",
       "1   4    None     None             Forest fire near La Ronge Sask. Canada   \n",
       "2   5    None     None  All residents asked to 'shelter in place' are ...   \n",
       "3   6    None     None  13,000 people receive #wildfires evacuation or...   \n",
       "4   7    None     None  Just got sent this photo from Ruby #Alaska as ...   \n",
       "\n",
       "   target                                         clean_text  \n",
       "0     1.0        ur ee re he ren f h erhquke  llh frgve u ll  \n",
       "1     1.0                            fre fre ner l rnge k cn  \n",
       "2     1.0  ll reen ke  heler n plce re beng nfe b ffcer n...  \n",
       "3     1.0              peple receve wlfre evcun rer n clfrn   \n",
       "4     1.0    ju g en h ph fr rub lk  ke fr wlfre pur n  chl   "
      ]
     },
     "execution_count": 29,
     "metadata": {},
     "output_type": "execute_result"
    }
   ],
   "source": [
    "total_data.head()"
   ]
  },
  {
   "cell_type": "code",
   "execution_count": 30,
   "metadata": {},
   "outputs": [],
   "source": [
    "#save the cleaned data for future processing\n",
    "total_data.to_csv('cleaned_data.csv')"
   ]
  },
  {
   "cell_type": "code",
   "execution_count": null,
   "metadata": {},
   "outputs": [],
   "source": []
  },
  {
   "cell_type": "code",
   "execution_count": null,
   "metadata": {},
   "outputs": [],
   "source": []
  },
  {
   "cell_type": "code",
   "execution_count": 31,
   "metadata": {
    "colab": {},
    "colab_type": "code",
    "id": "-uQGmGlaaXpx"
   },
   "outputs": [],
   "source": [
    "# vectorize\n",
    "def vectorize_text(text):\n",
    "  # just skipping CountVectorizer \n",
    "  vec = TfidfVectorizer() #CountVectorizer() #TfidfVectorizer()\n",
    "  vectorized_text = vec.fit_transform(text)\n",
    "  return vec, vectorized_text"
   ]
  },
  {
   "cell_type": "code",
   "execution_count": 32,
   "metadata": {
    "colab": {},
    "colab_type": "code",
    "id": "wP7FS5MD_mKE"
   },
   "outputs": [],
   "source": [
    "# Define a metrics function named get_metrics to evaluate the model's performance\n",
    "def get_metrics(y_test, y_predicted):  \n",
    "    # true positives / (true positives+false positives)\n",
    "    precision = precision_score(y_test, y_predicted, pos_label=None,\n",
    "                                    average='weighted')             \n",
    "    # true positives / (true positives + false negatives)\n",
    "    recall = recall_score(y_test, y_predicted, pos_label=None,\n",
    "                              average='weighted')\n",
    "    \n",
    "    # harmonic mean of precision and recall\n",
    "    f1 = f1_score(y_test, y_predicted, pos_label=None, average='weighted')\n",
    "    \n",
    "    # true positives + true negatives/ total\n",
    "    accuracy = accuracy_score(y_test, y_predicted)\n",
    "    return accuracy, precision, recall, f1"
   ]
  },
  {
   "cell_type": "code",
   "execution_count": 33,
   "metadata": {},
   "outputs": [],
   "source": [
    "def scaled_data(X, X_valid):\n",
    "    from sklearn.preprocessing import StandardScaler\n",
    "    scaler_X = StandardScaler()\n",
    "    X = scaler_X.fit_transform(X)\n",
    "    X_valid = scaler_X.transform(X_valid)\n",
    "    return X, X_valid, scaler_X  "
   ]
  },
  {
   "cell_type": "code",
   "execution_count": 34,
   "metadata": {
    "colab": {},
    "colab_type": "code",
    "id": "TkXYUqlc_mHV"
   },
   "outputs": [],
   "source": [
    "\"\"\"\n",
    "model_type : \n",
    "1 - Random forest(default)\n",
    "2 - RidgeClassifier\n",
    "3 - SVC\n",
    "4 - Naive Bayes classifier\n",
    "5 - xgboost \n",
    "\n",
    "TBD:\n",
    "Parameter fine tuning\n",
    "\"\"\"\n",
    "#create a traditional sklearn model\n",
    "def create_model(X, y, train_len, model_type=1):\n",
    "\n",
    "  # split\n",
    "  X_train = X[:train_len]\n",
    "  X_test = X[train_len:]\n",
    "  y_train = y[:train_len]\n",
    "  y_test = y[train_len:]\n",
    "  y_predict = []\n",
    "  #X_train, X_test, y_train, y_test = train_test_split()\n",
    "  # vectorize\n",
    "  vec, X_train = vectorize_text(X_train)\n",
    "  X_test = vec.transform(X_test)\n",
    "\n",
    "  #X_Train, X_valid, scaler_X = scaled_data(X_train, X_test)\n",
    "  #X_Test = scaler_X.transform(X_test)\n",
    "    \n",
    "  if model_type == 1: #RF classifier\n",
    "    #model = RandomForestClassifier(n_estimators=100, random_state=21, max_depth=5)\n",
    "    model = RandomForestClassifier(random_state=21)\n",
    "    model.fit(X_train, y_train)\n",
    "    cval = cross_val_score(model, X_train, y_train, scoring = 'balanced_accuracy', cv = 3)\n",
    "    y_predict = model.predict(X_test)\n",
    "    \n",
    "  elif model_type == 2: #RidgeClassifier\n",
    "    model = RidgeClassifier(random_state=21)\n",
    "    model.fit(X_train, y_train)\n",
    "    cval = cross_val_score(model, X_train, y_train, scoring = 'balanced_accuracy', cv = 3)\n",
    "    y_predict = model.predict(X_test)\n",
    "    \n",
    "  elif model_type == 3: #SVC\n",
    "    model = SVC(C=1.0, kernel='rbf',random_state=21)\n",
    "    model.fit(X_train, y_train)\n",
    "    cval = cross_val_score(model, X_train, y_train, scoring = 'balanced_accuracy', cv = 3)\n",
    "    y_predict = model.predict(X_test)\n",
    "    \n",
    "  elif model_type == 4: #Naive Bayes classifier\n",
    "    model = GaussianNB()\n",
    "\n",
    "    X_train_transform = X_train.toarray()\n",
    "    X_test_transform = X_test.toarray()\n",
    "    \n",
    "    model.fit(X_train_transform, y_train)\n",
    "    y_predict = model.predict(X_test_transform)\n",
    "    cval = cross_val_score(model, X_train_transform, y_train, scoring = 'balanced_accuracy', cv = 3)\n",
    "    \n",
    "  elif model_type == 5: # xgboost classifier\n",
    "    model = XGBClassifier()\n",
    "    model.fit(X_train, y_train)\n",
    "    cval = cross_val_score(model, X_train, y_train, scoring = 'balanced_accuracy', cv = 3)\n",
    "    y_predict = model.predict(X_test)\n",
    "    \n",
    "  print(\"cross validation score:{}\".format(cval))\n",
    "  #accuracy, precision, recall, f1 = get_metrics(y_test, y_predict)  \n",
    "  #print(\"accuracy {}, precision {}, recall {}, f1 {}\".format(accuracy, precision, recall, f1))\n",
    "  \n",
    "  return y_predict"
   ]
  },
  {
   "cell_type": "code",
   "execution_count": null,
   "metadata": {},
   "outputs": [],
   "source": []
  },
  {
   "cell_type": "code",
   "execution_count": 35,
   "metadata": {
    "colab": {},
    "colab_type": "code",
    "id": "9_KQxL4d_mD9"
   },
   "outputs": [
    {
     "name": "stdout",
     "output_type": "stream",
     "text": [
      "cross validation score:[0.65031701 0.59945385 0.64872847]\n",
      "time: 0:00:51.309460\n"
     ]
    }
   ],
   "source": [
    "#read the saved data \n",
    "df = pd.read_csv('cleaned_data.csv')\n",
    "X = df['clean_text']\n",
    "y = df['target']\n",
    "\n",
    "from datetime import datetime\n",
    "time_start = datetime.now()\n",
    "\n",
    "y_predict = create_model(X, y, train_len, 1) # random forest\n",
    "\n",
    "#y_predict = create_model(X, y, train_len, 2) #RidgeClassifier\n",
    "\n",
    "#y_predict = create_model(X, y, train_len, 3) #svc\n",
    "\n",
    "#y_predict = create_model(X, y, train_len, 4) # naive bayes\n",
    "\n",
    "#y_predict = create_model(X, y, train_len, 5) #xgboost \n",
    "\n",
    "time_delta = datetime.now()-time_start\n",
    "print('time:',time_delta)"
   ]
  },
  {
   "cell_type": "code",
   "execution_count": 36,
   "metadata": {},
   "outputs": [],
   "source": [
    "#write the predictions to a file\n",
    "predict = pd.DataFrame({'text':tdata['text'], 'prediction':y_predict})\n",
    "predict.to_csv('final_prediction.csv')\n"
   ]
  },
  {
   "cell_type": "code",
   "execution_count": null,
   "metadata": {
    "colab": {},
    "colab_type": "code",
    "id": "srZVtYpCWYCz"
   },
   "outputs": [],
   "source": []
  },
  {
   "cell_type": "markdown",
   "metadata": {},
   "source": [
    "*Use SpaCy:*\n",
    "spacy has preloaded english library and it understand the stop words etc."
   ]
  },
  {
   "cell_type": "code",
   "execution_count": 37,
   "metadata": {
    "colab": {},
    "colab_type": "code",
    "id": "U8YT2b_lX8y0"
   },
   "outputs": [],
   "source": [
    "spacy_nlp = spacy.load('en_core_web_lg')"
   ]
  },
  {
   "cell_type": "code",
   "execution_count": 38,
   "metadata": {
    "colab": {},
    "colab_type": "code",
    "id": "h0EENbrcZ2q8"
   },
   "outputs": [],
   "source": [
    "# remove stop words\n",
    "def rem_stopw(text):\n",
    "    clean_text = \"\".join()"
   ]
  },
  {
   "cell_type": "code",
   "execution_count": 39,
   "metadata": {},
   "outputs": [
    {
     "name": "stdout",
     "output_type": "stream",
     "text": [
      "spaCy Version: 2.2.3\n"
     ]
    }
   ],
   "source": [
    "print('spaCy Version: %s' % (spacy.__version__))"
   ]
  },
  {
   "cell_type": "code",
   "execution_count": 40,
   "metadata": {},
   "outputs": [],
   "source": [
    "spacy_stopw = spacy.lang.en.STOP_WORDS"
   ]
  },
  {
   "cell_type": "code",
   "execution_count": 41,
   "metadata": {},
   "outputs": [],
   "source": [
    "def remove_stopw(text):\n",
    "    tokens = [token.text for token in text if not token.is_stop]\n",
    "    return ' '.join([token for token in tokens])\n",
    "\n",
    "def text_lammatize(text):\n",
    "    tokens = [token.lemma_ for token in text]\n",
    "    return ' '.join([token for token in tokens])\n",
    "\n",
    "def remove_punctuations(text):\n",
    "    punctuations = string.punctuation\n",
    "    tokens = [word for word in text if not punctuations]\n",
    "    return tokens\n",
    "#' '.join([token for token in tokens])"
   ]
  },
  {
   "cell_type": "code",
   "execution_count": null,
   "metadata": {},
   "outputs": [],
   "source": []
  },
  {
   "cell_type": "code",
   "execution_count": 44,
   "metadata": {},
   "outputs": [],
   "source": [
    "#spacy_tokenizer(sample_text)"
   ]
  },
  {
   "cell_type": "markdown",
   "metadata": {},
   "source": [
    "def clean_text_spacy(df):\n",
    "    df['clean_text'] = df['text'].apply(lambda x: x.lower())\n",
    "    df['clean_text'] = df['clean_text'].apply(lambda x: remove_stopw(spacy_nlp(x)))\n",
    "    df['clean_text'] = df['clean_text'].apply(lambda x: text_lammatize(spacy_nlp(x)))\n",
    "    df['clean_text'] = df['clean_text'].apply(lambda x: remove_weblinks(x))                "
   ]
  },
  {
   "cell_type": "markdown",
   "metadata": {},
   "source": [
    "clean_text_spacy(total_data)"
   ]
  },
  {
   "cell_type": "code",
   "execution_count": null,
   "metadata": {},
   "outputs": [],
   "source": []
  },
  {
   "cell_type": "code",
   "execution_count": 46,
   "metadata": {},
   "outputs": [],
   "source": [
    "from sklearn.pipeline import Pipeline\n",
    "from sklearn.base import TransformerMixin"
   ]
  },
  {
   "cell_type": "code",
   "execution_count": 47,
   "metadata": {},
   "outputs": [],
   "source": [
    "punctuations = string.punctuation\n",
    "\n",
    "perser = English()\n",
    "\n",
    "from spacy.lang.en.stop_words import STOP_WORDS\n",
    "stopwords = list(STOP_WORDS)\n",
    "\n",
    "def spacy_tokenizer(string):\n",
    "    mtoken = perser(string) \n",
    "    #lammatization \n",
    "    mtoken = [word.lemma_.lower() if word.lemma_ != \"-PRON-\" else word.lower_ for word in mtoken]\n",
    "    # remove stop words and punctuations\n",
    "    mtoken = [word for word in mtoken if word not in stopwords and word not in punctuations]\n",
    "    \n",
    "    return mtoken"
   ]
  },
  {
   "cell_type": "code",
   "execution_count": 48,
   "metadata": {},
   "outputs": [],
   "source": [
    "#Custom transformer using spaCy \n",
    "def clean_text(text):\n",
    "    \"\"\"Basic function to clean the text\"\"\"\n",
    "    return text.strip().lower()\n",
    "    \n",
    "\n",
    "class predictors(TransformerMixin):\n",
    "    def transform(self, X, **transform_params):\n",
    "        print('predictors->transform')\n",
    "        return [clean_text(text) for text in X]\n",
    "    def fit(self, X, y=None, **fit_params):\n",
    "        print('predictors->fit')\n",
    "        return self\n",
    "    def get_params(self, deep=True):\n",
    "        return {}"
   ]
  },
  {
   "cell_type": "code",
   "execution_count": 49,
   "metadata": {},
   "outputs": [],
   "source": [
    "classifier = RandomForestClassifier(random_state=21)\n",
    "tfvenctorizer = TfidfVectorizer(tokenizer=spacy_tokenizer)\n",
    "\n",
    "pipe = Pipeline([('cleaner', predictors()),\n",
    "                ('vectorizer', tfvenctorizer),\n",
    "                ('classifier', classifier)\n",
    "                ])"
   ]
  },
  {
   "cell_type": "code",
   "execution_count": null,
   "metadata": {},
   "outputs": [],
   "source": [
    "X_train = data['text']\n",
    "y_train = data['target']\n",
    "pipe.fit(X_train, y_train)"
   ]
  },
  {
   "cell_type": "code",
   "execution_count": null,
   "metadata": {},
   "outputs": [],
   "source": [
    "X_test = tdata['text']\n",
    "prediction = pipe.predict(X_test)"
   ]
  },
  {
   "cell_type": "code",
   "execution_count": null,
   "metadata": {},
   "outputs": [],
   "source": [
    "# create a csv for the predictions\n",
    "pred = pd.DataFrame({'text':X_test, 'prediction':prediction})"
   ]
  },
  {
   "cell_type": "code",
   "execution_count": null,
   "metadata": {},
   "outputs": [],
   "source": [
    "pred.to_csv('pred_spacy.csv')"
   ]
  },
  {
   "cell_type": "code",
   "execution_count": null,
   "metadata": {},
   "outputs": [],
   "source": []
  },
  {
   "cell_type": "markdown",
   "metadata": {},
   "source": [
    "Use Deep learning using TensorFlow Keras"
   ]
  },
  {
   "cell_type": "code",
   "execution_count": 50,
   "metadata": {},
   "outputs": [],
   "source": [
    "import tensorflow as tf"
   ]
  },
  {
   "cell_type": "code",
   "execution_count": 100,
   "metadata": {},
   "outputs": [],
   "source": [
    "from tensorflow.keras.preprocessing.text import Tokenizer\n",
    "from tensorflow.keras.preprocessing.sequence import pad_sequences\n",
    "from tensorflow import keras"
   ]
  },
  {
   "cell_type": "code",
   "execution_count": 72,
   "metadata": {},
   "outputs": [],
   "source": [
    "def clean_text_for_deeplearning(tfdata):\n",
    "    tfdata['clean_text_tf'] = tfdata['text'].apply(lambda x: x.lower())\n",
    "    \n",
    "    tfdata['clean_text_tf'] = tfdata['clean_text_tf'].apply(lambda x: remove_punctuations_and_nums(x))"
   ]
  },
  {
   "cell_type": "code",
   "execution_count": 73,
   "metadata": {},
   "outputs": [
    {
     "data": {
      "text/html": [
       "<div>\n",
       "<style scoped>\n",
       "    .dataframe tbody tr th:only-of-type {\n",
       "        vertical-align: middle;\n",
       "    }\n",
       "\n",
       "    .dataframe tbody tr th {\n",
       "        vertical-align: top;\n",
       "    }\n",
       "\n",
       "    .dataframe thead th {\n",
       "        text-align: right;\n",
       "    }\n",
       "</style>\n",
       "<table border=\"1\" class=\"dataframe\">\n",
       "  <thead>\n",
       "    <tr style=\"text-align: right;\">\n",
       "      <th></th>\n",
       "      <th>id</th>\n",
       "      <th>keyword</th>\n",
       "      <th>location</th>\n",
       "      <th>text</th>\n",
       "      <th>target</th>\n",
       "      <th>clean_text</th>\n",
       "    </tr>\n",
       "  </thead>\n",
       "  <tbody>\n",
       "    <tr>\n",
       "      <td>0</td>\n",
       "      <td>1</td>\n",
       "      <td>None</td>\n",
       "      <td>None</td>\n",
       "      <td>Our Deeds are the Reason of this #earthquake M...</td>\n",
       "      <td>1.0</td>\n",
       "      <td>our deeds are the reason of this earthquake ma...</td>\n",
       "    </tr>\n",
       "    <tr>\n",
       "      <td>1</td>\n",
       "      <td>4</td>\n",
       "      <td>None</td>\n",
       "      <td>None</td>\n",
       "      <td>Forest fire near La Ronge Sask. Canada</td>\n",
       "      <td>1.0</td>\n",
       "      <td>forest fire near la ronge sask canada</td>\n",
       "    </tr>\n",
       "    <tr>\n",
       "      <td>2</td>\n",
       "      <td>5</td>\n",
       "      <td>None</td>\n",
       "      <td>None</td>\n",
       "      <td>All residents asked to 'shelter in place' are ...</td>\n",
       "      <td>1.0</td>\n",
       "      <td>all residents asked to shelter in place are be...</td>\n",
       "    </tr>\n",
       "    <tr>\n",
       "      <td>3</td>\n",
       "      <td>6</td>\n",
       "      <td>None</td>\n",
       "      <td>None</td>\n",
       "      <td>13,000 people receive #wildfires evacuation or...</td>\n",
       "      <td>1.0</td>\n",
       "      <td>people receive wildfires evacuation orders in...</td>\n",
       "    </tr>\n",
       "    <tr>\n",
       "      <td>4</td>\n",
       "      <td>7</td>\n",
       "      <td>None</td>\n",
       "      <td>None</td>\n",
       "      <td>Just got sent this photo from Ruby #Alaska as ...</td>\n",
       "      <td>1.0</td>\n",
       "      <td>just got sent this photo from ruby alaska as s...</td>\n",
       "    </tr>\n",
       "  </tbody>\n",
       "</table>\n",
       "</div>"
      ],
      "text/plain": [
       "   id keyword location                                               text  \\\n",
       "0   1    None     None  Our Deeds are the Reason of this #earthquake M...   \n",
       "1   4    None     None             Forest fire near La Ronge Sask. Canada   \n",
       "2   5    None     None  All residents asked to 'shelter in place' are ...   \n",
       "3   6    None     None  13,000 people receive #wildfires evacuation or...   \n",
       "4   7    None     None  Just got sent this photo from Ruby #Alaska as ...   \n",
       "\n",
       "   target                                         clean_text  \n",
       "0     1.0  our deeds are the reason of this earthquake ma...  \n",
       "1     1.0              forest fire near la ronge sask canada  \n",
       "2     1.0  all residents asked to shelter in place are be...  \n",
       "3     1.0   people receive wildfires evacuation orders in...  \n",
       "4     1.0  just got sent this photo from ruby alaska as s...  "
      ]
     },
     "execution_count": 73,
     "metadata": {},
     "output_type": "execute_result"
    }
   ],
   "source": [
    "total_data.head()"
   ]
  },
  {
   "cell_type": "code",
   "execution_count": 74,
   "metadata": {},
   "outputs": [],
   "source": [
    "clean_text_for_deeplearning(total_data)"
   ]
  },
  {
   "cell_type": "code",
   "execution_count": 75,
   "metadata": {},
   "outputs": [
    {
     "data": {
      "text/html": [
       "<div>\n",
       "<style scoped>\n",
       "    .dataframe tbody tr th:only-of-type {\n",
       "        vertical-align: middle;\n",
       "    }\n",
       "\n",
       "    .dataframe tbody tr th {\n",
       "        vertical-align: top;\n",
       "    }\n",
       "\n",
       "    .dataframe thead th {\n",
       "        text-align: right;\n",
       "    }\n",
       "</style>\n",
       "<table border=\"1\" class=\"dataframe\">\n",
       "  <thead>\n",
       "    <tr style=\"text-align: right;\">\n",
       "      <th></th>\n",
       "      <th>id</th>\n",
       "      <th>keyword</th>\n",
       "      <th>location</th>\n",
       "      <th>text</th>\n",
       "      <th>target</th>\n",
       "      <th>clean_text</th>\n",
       "      <th>clean_text_tf</th>\n",
       "    </tr>\n",
       "  </thead>\n",
       "  <tbody>\n",
       "    <tr>\n",
       "      <td>0</td>\n",
       "      <td>1</td>\n",
       "      <td>None</td>\n",
       "      <td>None</td>\n",
       "      <td>Our Deeds are the Reason of this #earthquake M...</td>\n",
       "      <td>1.0</td>\n",
       "      <td>our deeds are the reason of this earthquake ma...</td>\n",
       "      <td>our deeds are the reason of this earthquake ma...</td>\n",
       "    </tr>\n",
       "    <tr>\n",
       "      <td>1</td>\n",
       "      <td>4</td>\n",
       "      <td>None</td>\n",
       "      <td>None</td>\n",
       "      <td>Forest fire near La Ronge Sask. Canada</td>\n",
       "      <td>1.0</td>\n",
       "      <td>forest fire near la ronge sask canada</td>\n",
       "      <td>forest fire near la ronge sask canada</td>\n",
       "    </tr>\n",
       "    <tr>\n",
       "      <td>2</td>\n",
       "      <td>5</td>\n",
       "      <td>None</td>\n",
       "      <td>None</td>\n",
       "      <td>All residents asked to 'shelter in place' are ...</td>\n",
       "      <td>1.0</td>\n",
       "      <td>all residents asked to shelter in place are be...</td>\n",
       "      <td>all residents asked to shelter in place are be...</td>\n",
       "    </tr>\n",
       "    <tr>\n",
       "      <td>3</td>\n",
       "      <td>6</td>\n",
       "      <td>None</td>\n",
       "      <td>None</td>\n",
       "      <td>13,000 people receive #wildfires evacuation or...</td>\n",
       "      <td>1.0</td>\n",
       "      <td>people receive wildfires evacuation orders in...</td>\n",
       "      <td>people receive wildfires evacuation orders in...</td>\n",
       "    </tr>\n",
       "    <tr>\n",
       "      <td>4</td>\n",
       "      <td>7</td>\n",
       "      <td>None</td>\n",
       "      <td>None</td>\n",
       "      <td>Just got sent this photo from Ruby #Alaska as ...</td>\n",
       "      <td>1.0</td>\n",
       "      <td>just got sent this photo from ruby alaska as s...</td>\n",
       "      <td>just got sent this photo from ruby alaska as s...</td>\n",
       "    </tr>\n",
       "  </tbody>\n",
       "</table>\n",
       "</div>"
      ],
      "text/plain": [
       "   id keyword location                                               text  \\\n",
       "0   1    None     None  Our Deeds are the Reason of this #earthquake M...   \n",
       "1   4    None     None             Forest fire near La Ronge Sask. Canada   \n",
       "2   5    None     None  All residents asked to 'shelter in place' are ...   \n",
       "3   6    None     None  13,000 people receive #wildfires evacuation or...   \n",
       "4   7    None     None  Just got sent this photo from Ruby #Alaska as ...   \n",
       "\n",
       "   target                                         clean_text  \\\n",
       "0     1.0  our deeds are the reason of this earthquake ma...   \n",
       "1     1.0              forest fire near la ronge sask canada   \n",
       "2     1.0  all residents asked to shelter in place are be...   \n",
       "3     1.0   people receive wildfires evacuation orders in...   \n",
       "4     1.0  just got sent this photo from ruby alaska as s...   \n",
       "\n",
       "                                       clean_text_tf  \n",
       "0  our deeds are the reason of this earthquake ma...  \n",
       "1              forest fire near la ronge sask canada  \n",
       "2  all residents asked to shelter in place are be...  \n",
       "3   people receive wildfires evacuation orders in...  \n",
       "4  just got sent this photo from ruby alaska as s...  "
      ]
     },
     "execution_count": 75,
     "metadata": {},
     "output_type": "execute_result"
    }
   ],
   "source": [
    "total_data.head()"
   ]
  },
  {
   "cell_type": "code",
   "execution_count": null,
   "metadata": {},
   "outputs": [],
   "source": []
  },
  {
   "cell_type": "code",
   "execution_count": 65,
   "metadata": {},
   "outputs": [],
   "source": [
    "# tokenize\n",
    "tokenizer = Tokenizer(num_words=10000, oov_token='<OOV>')"
   ]
  },
  {
   "cell_type": "code",
   "execution_count": 76,
   "metadata": {},
   "outputs": [],
   "source": [
    "tokenizer.fit_on_texts(total_data['clean_text_tf'][:train_len])"
   ]
  },
  {
   "cell_type": "code",
   "execution_count": 80,
   "metadata": {},
   "outputs": [],
   "source": [
    "windex = tokenizer.word_index"
   ]
  },
  {
   "cell_type": "code",
   "execution_count": 81,
   "metadata": {},
   "outputs": [
    {
     "data": {
      "text/plain": [
       "21826"
      ]
     },
     "execution_count": 81,
     "metadata": {},
     "output_type": "execute_result"
    }
   ],
   "source": [
    "len(windex)"
   ]
  },
  {
   "cell_type": "code",
   "execution_count": 86,
   "metadata": {},
   "outputs": [
    {
     "name": "stdout",
     "output_type": "stream",
     "text": [
      "('<OOV>', 1)\n",
      "('the', 2)\n",
      "('a', 3)\n",
      "('in', 4)\n",
      "('to', 5)\n"
     ]
    }
   ],
   "source": [
    "iterator=iter(windex.items())\n",
    "for i in range(5):\n",
    "    print(next(iterator))"
   ]
  },
  {
   "cell_type": "code",
   "execution_count": 84,
   "metadata": {},
   "outputs": [
    {
     "data": {
      "text/plain": [
       "dict"
      ]
     },
     "execution_count": 84,
     "metadata": {},
     "output_type": "execute_result"
    }
   ],
   "source": [
    "type(windex)"
   ]
  },
  {
   "cell_type": "code",
   "execution_count": 87,
   "metadata": {},
   "outputs": [],
   "source": [
    "train_data_seq = tokenizer.texts_to_sequences(total_data['clean_text_tf'][:train_len])"
   ]
  },
  {
   "cell_type": "code",
   "execution_count": 88,
   "metadata": {},
   "outputs": [
    {
     "data": {
      "text/plain": [
       "[[110, 4404, 22, 2, 821, 6, 19, 237, 124, 1539, 4405, 67, 39],\n",
       " [178, 43, 216, 651, 6605, 6606, 1330],\n",
       " [39,\n",
       "  1664,\n",
       "  1540,\n",
       "  5,\n",
       "  2047,\n",
       "  4,\n",
       "  652,\n",
       "  22,\n",
       "  121,\n",
       "  6607,\n",
       "  18,\n",
       "  1665,\n",
       "  41,\n",
       "  412,\n",
       "  238,\n",
       "  54,\n",
       "  2047,\n",
       "  4,\n",
       "  652,\n",
       "  1331,\n",
       "  22,\n",
       "  1052],\n",
       " [57, 4406, 1332, 238, 1331, 4, 87],\n",
       " [29, 94, 1159, 19, 318, 20, 6608, 2048, 26, 252, 20, 1332, 6609, 66, 3, 175],\n",
       " [2766, 384, 87, 1427, 822, 4, 631, 6610, 523, 5, 1105, 366, 43, 4407, 1332],\n",
       " [209, 73, 823, 280, 1160, 785, 239, 6, 1666, 4, 6611, 990, 2328, 1541],\n",
       " [33, 11, 214, 6, 2, 1847, 7, 8, 71, 101, 3, 43, 4, 2, 4408],\n",
       " [273, 42, 72, 238, 1240, 50, 4, 2, 555, 824, 2, 702],\n",
       " [33, 2329, 16, 2, 524, 9, 231, 5, 110, 350]]"
      ]
     },
     "execution_count": 88,
     "metadata": {},
     "output_type": "execute_result"
    }
   ],
   "source": [
    "train_data_seq[:10]"
   ]
  },
  {
   "cell_type": "code",
   "execution_count": 89,
   "metadata": {},
   "outputs": [],
   "source": [
    "# check the length of the text messages to decide the max length to keep.\n",
    "txt_len=[]\n",
    "for text in total_data['clean_text_tf']:\n",
    "    txt_len.append(len(text))"
   ]
  },
  {
   "cell_type": "code",
   "execution_count": 90,
   "metadata": {},
   "outputs": [
    {
     "data": {
      "text/plain": [
       "[68, 37, 130, 58, 86, 101, 92, 55, 78, 48]"
      ]
     },
     "execution_count": 90,
     "metadata": {},
     "output_type": "execute_result"
    }
   ],
   "source": [
    "txt_len[:10]"
   ]
  },
  {
   "cell_type": "code",
   "execution_count": 91,
   "metadata": {},
   "outputs": [],
   "source": [
    "import seaborn as sb"
   ]
  },
  {
   "cell_type": "code",
   "execution_count": 94,
   "metadata": {},
   "outputs": [
    {
     "data": {
      "text/plain": [
       "Text(0.5, 1.0, 'text msg length distribution')"
      ]
     },
     "execution_count": 94,
     "metadata": {},
     "output_type": "execute_result"
    },
    {
     "data": {
      "image/png": "[encoded data removed]",
      "text/plain": [
       "<Figure size 432x288 with 1 Axes>"
      ]
     },
     "metadata": {
      "needs_background": "light"
     },
     "output_type": "display_data"
    }
   ],
   "source": [
    "sb.distplot(txt_len, label='text msg length').set_title('text msg length distribution')"
   ]
  },
  {
   "cell_type": "code",
   "execution_count": 98,
   "metadata": {},
   "outputs": [
    {
     "data": {
      "text/plain": [
       "array([[ 110, 4404,   22, ...,    0,    0,    0],\n",
       "       [ 178,   43,  216, ...,    0,    0,    0],\n",
       "       [  39, 1664, 1540, ...,    0,    0,    0],\n",
       "       ...,\n",
       "       [  33,   11,  214, ...,    0,    0,    0],\n",
       "       [ 273,   42,   72, ...,    0,    0,    0],\n",
       "       [  33, 2329,   16, ...,    0,    0,    0]])"
      ]
     },
     "execution_count": 98,
     "metadata": {},
     "output_type": "execute_result"
    }
   ],
   "source": [
    "# we can cut of the length at 150\n",
    "\"\"\"Signature:\n",
    "pad_sequences(\n",
    "    sequences,\n",
    "    maxlen=None,\n",
    "    dtype='int32',\n",
    "    padding='pre',\n",
    "    truncating='pre',\n",
    "    value=0.0,\n",
    ")\n",
    "\"\"\"\n",
    "train_data_padded = pad_sequences(train_data_seq, maxlen=150, padding='post', truncating='post')\n",
    "#train_data_padded[:10]"
   ]
  },
  {
   "cell_type": "code",
   "execution_count": 99,
   "metadata": {},
   "outputs": [],
   "source": [
    "test_data_seq = tokenizer.texts_to_sequences(total_data['clean_text_tf'][train_len:])\n",
    "test_data_padded = pad_sequences(test_data_seq, maxlen=150, padding='post', truncating='post')"
   ]
  },
  {
   "cell_type": "code",
   "execution_count": 102,
   "metadata": {},
   "outputs": [],
   "source": [
    "vocab_size = 10000\n",
    "# make a model\n",
    "model = keras.Sequential()\n",
    "#Turns positive integers (indexes) into dense vectors of fixed size.\n",
    "model.add(keras.layers.Embedding(input_dim=vocab_size, \n",
    "                                 output_dim=16,\n",
    "                                 input_length=150))\n",
    "                                 \n",
    "model.add(keras.layers.GlobalAveragePooling1D())\n",
    "model.add(keras.layers.Dense(units=24, activation='relu'))\n",
    "                                 \n",
    "# o/p layer                                \n",
    "model.add(keras.layers.Dense(units=1, activation='sigmoid'))"
   ]
  },
  {
   "cell_type": "code",
   "execution_count": 103,
   "metadata": {},
   "outputs": [],
   "source": [
    "model.compile(optimizer='adam', loss='binary_crossentropy', metrics=['accuracy'])"
   ]
  },
  {
   "cell_type": "code",
   "execution_count": 108,
   "metadata": {},
   "outputs": [
    {
     "name": "stdout",
     "output_type": "stream",
     "text": [
      "Train on 7613 samples, validate on 3263 samples\n",
      "Epoch 1/8\n",
      "7613/7613 - 1s - loss: 0.2718 - accuracy: 0.8922 - val_loss: 1.2095 - val_accuracy: 0.5939\n",
      "Epoch 2/8\n",
      "7613/7613 - 1s - loss: 0.2502 - accuracy: 0.9045 - val_loss: 1.1195 - val_accuracy: 0.6454\n",
      "Epoch 3/8\n",
      "7613/7613 - 1s - loss: 0.2342 - accuracy: 0.9105 - val_loss: 1.4329 - val_accuracy: 0.5590\n",
      "Epoch 4/8\n",
      "7613/7613 - 1s - loss: 0.2195 - accuracy: 0.9165 - val_loss: 1.1377 - val_accuracy: 0.6687\n",
      "Epoch 5/8\n",
      "7613/7613 - 1s - loss: 0.2028 - accuracy: 0.9217 - val_loss: 1.2916 - val_accuracy: 0.6322\n",
      "Epoch 6/8\n",
      "7613/7613 - 1s - loss: 0.1887 - accuracy: 0.9278 - val_loss: 1.4014 - val_accuracy: 0.6191\n",
      "Epoch 7/8\n",
      "7613/7613 - 1s - loss: 0.1768 - accuracy: 0.9327 - val_loss: 1.7909 - val_accuracy: 0.5133\n",
      "Epoch 8/8\n",
      "7613/7613 - 1s - loss: 0.1681 - accuracy: 0.9373 - val_loss: 1.4638 - val_accuracy: 0.6255\n"
     ]
    }
   ],
   "source": [
    "history = model.fit(x=np.array(train_data_padded), y=np.array(total_data['target'][:train_len]), epochs=8, \n",
    "         validation_data=(np.array(test_data_padded), np.array(total_data['target'][train_len:])), verbose=2)"
   ]
  },
  {
   "cell_type": "code",
   "execution_count": null,
   "metadata": {},
   "outputs": [],
   "source": []
  }
 ],
 "metadata": {
  "accelerator": "GPU",
  "colab": {
   "authorship_tag": "ABX9TyNjFfL+4s+y6cYfx898jtF2",
   "collapsed_sections": [],
   "mount_file_id": "1lBK6zMA-p9bgAVQjSVWxEkU5n3YMAuWc",
   "name": "nlp_disaster_tweet_analysis.ipynb",
   "provenance": [],
   "toc_visible": true
  },
  "kernelspec": {
   "display_name": "Python 3",
   "language": "python",
   "name": "python3"
  },
  "language_info": {
   "codemirror_mode": {
    "name": "ipython",
    "version": 3
   },
   "file_extension": ".py",
   "mimetype": "text/x-python",
   "name": "python",
   "nbconvert_exporter": "python",
   "pygments_lexer": "ipython3",
   "version": "3.7.4"
  }
 },
 "nbformat": 4,
 "nbformat_minor": 4
}
